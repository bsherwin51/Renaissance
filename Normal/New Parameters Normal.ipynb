{
 "cells": [
  {
   "cell_type": "code",
   "execution_count": 1,
   "id": "07c081ad-0c7e-4d05-ad7b-92ba2be2240b",
   "metadata": {},
   "outputs": [
    {
     "name": "stdout",
     "output_type": "stream",
     "text": [
      "/home/bsherwin51/Renaissance/Normal\n"
     ]
    }
   ],
   "source": [
    "! pwd"
   ]
  },
  {
   "cell_type": "code",
   "execution_count": 2,
   "id": "5a946adb-9064-4f33-ae7b-c81bcc1f9a48",
   "metadata": {},
   "outputs": [],
   "source": [
    "import yt"
   ]
  },
  {
   "cell_type": "code",
   "execution_count": 4,
   "id": "a2b57f20-abf6-433f-afbc-e13578a47030",
   "metadata": {},
   "outputs": [
    {
     "name": "stdout",
     "output_type": "stream",
     "text": [
      "Collecting pooch\n",
      "  Downloading pooch-1.7.0-py3-none-any.whl (60 kB)\n",
      "\u001b[2K     \u001b[90m━━━━━━━━━━━━━━━━━━━━━━━━━━━━━━━━━━━━━━━\u001b[0m \u001b[32m60.9/60.9 kB\u001b[0m \u001b[31m970.8 kB/s\u001b[0m eta \u001b[36m0:00:00\u001b[0m \u001b[36m0:00:01\u001b[0m\n",
      "\u001b[?25hRequirement already satisfied: platformdirs>=2.5.0 in /home/bsherwin51/anaconda3/envs/REU/lib/python3.11/site-packages (from pooch) (3.5.1)\n",
      "Requirement already satisfied: packaging>=20.0 in /home/bsherwin51/anaconda3/envs/REU/lib/python3.11/site-packages (from pooch) (23.1)\n",
      "Requirement already satisfied: requests>=2.19.0 in /home/bsherwin51/anaconda3/envs/REU/lib/python3.11/site-packages (from pooch) (2.31.0)\n",
      "Requirement already satisfied: charset-normalizer<4,>=2 in /home/bsherwin51/anaconda3/envs/REU/lib/python3.11/site-packages (from requests>=2.19.0->pooch) (3.1.0)\n",
      "Requirement already satisfied: idna<4,>=2.5 in /home/bsherwin51/anaconda3/envs/REU/lib/python3.11/site-packages (from requests>=2.19.0->pooch) (3.4)\n",
      "Requirement already satisfied: urllib3<3,>=1.21.1 in /home/bsherwin51/anaconda3/envs/REU/lib/python3.11/site-packages (from requests>=2.19.0->pooch) (2.0.2)\n",
      "Requirement already satisfied: certifi>=2017.4.17 in /home/bsherwin51/anaconda3/envs/REU/lib/python3.11/site-packages (from requests>=2.19.0->pooch) (2023.5.7)\n",
      "Installing collected packages: pooch\n",
      "Successfully installed pooch-1.7.0\n"
     ]
    }
   ],
   "source": [
    "! pip install pooch"
   ]
  },
  {
   "cell_type": "code",
   "execution_count": 6,
   "id": "e9f1780b-0c83-46cc-b033-3d5fee5d2660",
   "metadata": {},
   "outputs": [
    {
     "name": "stdout",
     "output_type": "stream",
     "text": [
      "Collecting pandas\n",
      "  Downloading pandas-2.0.2-cp311-cp311-manylinux_2_17_x86_64.manylinux2014_x86_64.whl (12.2 MB)\n",
      "\u001b[2K     \u001b[90m━━━━━━━━━━━━━━━━━━━━━━━━━━━━━━━━━━━━━━━━\u001b[0m \u001b[32m12.2/12.2 MB\u001b[0m \u001b[31m5.3 MB/s\u001b[0m eta \u001b[36m0:00:00\u001b[0m00:01\u001b[0m00:01\u001b[0m\n",
      "\u001b[?25hRequirement already satisfied: python-dateutil>=2.8.2 in /home/bsherwin51/anaconda3/envs/REU/lib/python3.11/site-packages (from pandas) (2.8.2)\n",
      "Requirement already satisfied: pytz>=2020.1 in /home/bsherwin51/anaconda3/envs/REU/lib/python3.11/site-packages (from pandas) (2023.3)\n",
      "Collecting tzdata>=2022.1 (from pandas)\n",
      "  Downloading tzdata-2023.3-py2.py3-none-any.whl (341 kB)\n",
      "\u001b[2K     \u001b[90m━━━━━━━━━━━━━━━━━━━━━━━━━━━━━━━━━━━━━━━\u001b[0m \u001b[32m341.8/341.8 kB\u001b[0m \u001b[31m8.1 MB/s\u001b[0m eta \u001b[36m0:00:00\u001b[0m00:01\u001b[0m\n",
      "\u001b[?25hRequirement already satisfied: numpy>=1.21.0 in /home/bsherwin51/anaconda3/envs/REU/lib/python3.11/site-packages (from pandas) (1.24.3)\n",
      "Requirement already satisfied: six>=1.5 in /home/bsherwin51/anaconda3/envs/REU/lib/python3.11/site-packages (from python-dateutil>=2.8.2->pandas) (1.16.0)\n",
      "Installing collected packages: tzdata, pandas\n",
      "Successfully installed pandas-2.0.2 tzdata-2023.3\n"
     ]
    }
   ],
   "source": [
    "! pip install pandas"
   ]
  },
  {
   "cell_type": "code",
   "execution_count": 10,
   "id": "46369603-c96f-46ff-ae7d-9fd485c39816",
   "metadata": {},
   "outputs": [
    {
     "name": "stderr",
     "output_type": "stream",
     "text": [
      "yt : [INFO     ] 2023-06-12 11:27:27,020 Assuming unitary (0..1) bounding box.\n"
     ]
    },
    {
     "ename": "AttributeError",
     "evalue": "'Group' object has no attribute 'shape'",
     "output_type": "error",
     "traceback": [
      "\u001b[0;31m---------------------------------------------------------------------------\u001b[0m",
      "\u001b[0;31mAttributeError\u001b[0m                            Traceback (most recent call last)",
      "Cell \u001b[0;32mIn[10], line 1\u001b[0m\n\u001b[0;32m----> 1\u001b[0m ds \u001b[38;5;241m=\u001b[39m \u001b[43myt\u001b[49m\u001b[38;5;241;43m.\u001b[39;49m\u001b[43mload_hdf5_file\u001b[49m\u001b[43m(\u001b[49m\u001b[38;5;124;43m\"\u001b[39;49m\u001b[38;5;124;43mcatalog.h5\u001b[39;49m\u001b[38;5;124;43m\"\u001b[39;49m\u001b[43m)\u001b[49m\n",
      "File \u001b[0;32m~/anaconda3/envs/REU/lib/python3.11/site-packages/yt/loaders.py:1727\u001b[0m, in \u001b[0;36mload_hdf5_file\u001b[0;34m(fn, root_node, fields, bbox, nchunks, dataset_arguments)\u001b[0m\n\u001b[1;32m   1725\u001b[0m     fields \u001b[38;5;241m=\u001b[39m \u001b[38;5;28mlist\u001b[39m(handle[root_node]\u001b[38;5;241m.\u001b[39mkeys())\n\u001b[1;32m   1726\u001b[0m     mylog\u001b[38;5;241m.\u001b[39mdebug(\u001b[38;5;124m\"\u001b[39m\u001b[38;5;124mIdentified fields \u001b[39m\u001b[38;5;132;01m%s\u001b[39;00m\u001b[38;5;124m\"\u001b[39m, fields)\n\u001b[0;32m-> 1727\u001b[0m shape \u001b[38;5;241m=\u001b[39m \u001b[43mhandle\u001b[49m\u001b[43m[\u001b[49m\u001b[43mroot_node\u001b[49m\u001b[43m]\u001b[49m\u001b[43m[\u001b[49m\u001b[43mfields\u001b[49m\u001b[43m[\u001b[49m\u001b[38;5;241;43m0\u001b[39;49m\u001b[43m]\u001b[49m\u001b[43m]\u001b[49m\u001b[38;5;241;43m.\u001b[39;49m\u001b[43mshape\u001b[49m\n\u001b[1;32m   1728\u001b[0m \u001b[38;5;28;01mif\u001b[39;00m nchunks \u001b[38;5;241m<\u001b[39m\u001b[38;5;241m=\u001b[39m \u001b[38;5;241m0\u001b[39m:\n\u001b[1;32m   1729\u001b[0m     \u001b[38;5;66;03m# We apply a pretty simple heuristic here.  We don't want more than\u001b[39;00m\n\u001b[1;32m   1730\u001b[0m     \u001b[38;5;66;03m# about 64^3 zones per chunk.  So ...\u001b[39;00m\n\u001b[1;32m   1731\u001b[0m     full_size \u001b[38;5;241m=\u001b[39m np\u001b[38;5;241m.\u001b[39mprod(shape)\n",
      "\u001b[0;31mAttributeError\u001b[0m: 'Group' object has no attribute 'shape'"
     ]
    }
   ],
   "source": [
    "ds = yt.load_hdf5_file(\"catalog.h5\")"
   ]
  },
  {
   "cell_type": "code",
   "execution_count": null,
   "id": "baec2510-72ef-4eee-b190-a677f54716fa",
   "metadata": {},
   "outputs": [],
   "source": []
  }
 ],
 "metadata": {
  "kernelspec": {
   "display_name": "Python 3 (ipykernel)",
   "language": "python",
   "name": "python3"
  },
  "language_info": {
   "codemirror_mode": {
    "name": "ipython",
    "version": 3
   },
   "file_extension": ".py",
   "mimetype": "text/x-python",
   "name": "python",
   "nbconvert_exporter": "python",
   "pygments_lexer": "ipython3",
   "version": "3.10.9"
  }
 },
 "nbformat": 4,
 "nbformat_minor": 5
}
