{
 "cells": [
  {
   "cell_type": "code",
   "execution_count": 2,
   "id": "de9e064e-8a1c-4f67-be1c-7687660e142d",
   "metadata": {},
   "outputs": [
    {
     "name": "stdout",
     "output_type": "stream",
     "text": [
      "/home/bsherwin51/Renaissance/RP\n"
     ]
    }
   ],
   "source": [
    "! pwd"
   ]
  },
  {
   "cell_type": "code",
   "execution_count": 3,
   "id": "2584f230-87ff-4f1d-b696-1cf9e614698c",
   "metadata": {},
   "outputs": [],
   "source": [
    "import h5py as h"
   ]
  },
  {
   "cell_type": "code",
   "execution_count": 4,
   "id": "e068f17a-9eb9-47f2-b3b1-30c782e2b506",
   "metadata": {},
   "outputs": [
    {
     "name": "stdout",
     "output_type": "stream",
     "text": [
      "<HDF5 file \"catalog.h5\" (mode r)>\n"
     ]
    }
   ],
   "source": [
    "ds = h.File('catalog.h5')\n",
    "print(ds)"
   ]
  },
  {
   "cell_type": "code",
   "execution_count": 6,
   "id": "409deb02-62f2-4488-8849-fdc5fba46bde",
   "metadata": {},
   "outputs": [
    {
     "name": "stdout",
     "output_type": "stream",
     "text": [
      "168\n"
     ]
    }
   ],
   "source": [
    "print(len(ds.keys())) # only 168 halos now"
   ]
  },
  {
   "cell_type": "code",
   "execution_count": 7,
   "id": "357be9b2-938a-45e5-95d6-e5daaa847866",
   "metadata": {},
   "outputs": [
    {
     "name": "stdout",
     "output_type": "stream",
     "text": [
      "<KeysViewHDF5 ['M_HI', 'M_HII', 'Mstar', 'Mstar_pop2', 'Mstar_pop2_young', 'Mstar_pop3', 'Nesc', 'Ntot', 'NumberOfPop2Stars', 'NumberOfPop3Stars', 'SFR', 'center', 'fesc', 'fgas', 'fstar', 'mass', 'redshift', 'rvir']>\n"
     ]
    }
   ],
   "source": [
    "for key in ds.keys():\n",
    "    print(ds[key].keys())\n",
    "    break"
   ]
  },
  {
   "cell_type": "code",
   "execution_count": 8,
   "id": "e2baf487-7708-4425-ab15-eec2d0ad52b5",
   "metadata": {},
   "outputs": [],
   "source": [
    "import numpy as np\n",
    "import matplotlib.pyplot as plt"
   ]
  },
  {
   "cell_type": "code",
   "execution_count": 13,
   "id": "8cc9a215-1401-4612-9a92-d388f15eab03",
   "metadata": {},
   "outputs": [
    {
     "name": "stdout",
     "output_type": "stream",
     "text": [
      "2139 2139 2139 2139 2139 2139\n",
      "True\n"
     ]
    }
   ],
   "source": [
    "all_groups = {}\n",
    "fescs = []\n",
    "groups = []\n",
    "fgases = []\n",
    "masses = []\n",
    "SFRs = [] \n",
    "Mstars = []\n",
    "redshifts = []\n",
    "for halo in ds.keys(): # loops through halos\n",
    "    fesc_list = list(ds[halo]['fesc'])\n",
    "    fgas_list = list(ds[halo]['fgas'])\n",
    "    mass_list = list(ds[halo]['mass'])\n",
    "    SFR_list = list(ds[halo]['SFR'])\n",
    "    Mstar_list = list(ds[halo]['Mstar'])\n",
    "    redshift_list = list(ds[halo]['redshift'])    \n",
    "    for index, fesc in enumerate(fesc_list):# loops thru timestep\n",
    "        if fesc <= 0.01:\n",
    "            group = 0\n",
    "        elif 0.01 < fesc <= 0.10:\n",
    "            group = 1\n",
    "        elif 0.10 < fesc <= 0.25:\n",
    "            group = 2\n",
    "        else:\n",
    "            group = 3\n",
    "        # used enumerate to find index and only use \"good\" values\n",
    "        if fesc >= 1e-5:\n",
    "            fescs.append(fesc)\n",
    "            groups.append(group)\n",
    "            fgases.append(ds[halo]['fgas'][index])\n",
    "            masses.append(ds[halo]['mass'][index])\n",
    "            SFRs.append(ds[halo]['SFR'][index])\n",
    "            Mstars.append(ds[halo]['Mstar'][index])\n",
    "            redshifts.append(ds[halo]['redshift'][index])\n",
    "    all_groups[halo] = groups\n",
    "\n",
    "# Sanity check: All parameter arrays should be same size\n",
    "print(len(fescs), len(fgases), len(masses), len(SFRs), len(Mstars), len(redshifts)) # length is 3122 for all\n",
    "\n",
    "# Sanity check 2: Length of all_groups should be same as number of halos\n",
    "print(len(ds.keys()) == len(all_groups)) # length is 168\n",
    "\n",
    "\n"
   ]
  },
  {
   "cell_type": "code",
   "execution_count": 14,
   "id": "af928905-f49a-422f-a2f2-005a21fad596",
   "metadata": {},
   "outputs": [
    {
     "data": {
      "image/png": "[encoded data removed]",
      "text/plain": [
       "<Figure size 640x480 with 1 Axes>"
      ]
     },
     "metadata": {},
     "output_type": "display_data"
    }
   ],
   "source": [
    "plt.hist(fescs, bins = np.logspace(-6, 0))\n",
    "plt.xscale('log')"
   ]
  },
  {
   "cell_type": "markdown",
   "id": "96ddcadf-6c9b-4de7-8ac4-504e9d1a773e",
   "metadata": {},
   "source": [
    "## Architecture"
   ]
  },
  {
   "cell_type": "code",
   "execution_count": 15,
   "id": "22003c49-05f7-4d03-913b-08be6d862a6c",
   "metadata": {},
   "outputs": [],
   "source": [
    "import torch \n",
    "import torch.nn as nn\n",
    "import numpy as np\n",
    "import sys, os, tAime\n",
    "import optuna # Optimizer"
   ]
  },
  {
   "cell_type": "code",
   "execution_count": 16,
   "id": "252263ac-7ebe-46f2-9eb4-2856ce075395",
   "metadata": {},
   "outputs": [],
   "source": [
    "# 1 hidden layer code\n",
    "\n",
    "# inp ---------> size of input data\n",
    "# h1 ----------> size of first hidden layer\n",
    "# out ---------> size of output data\n",
    "# dr ----------> dropout rate\n",
    "class model_1hl(nn.Module):\n",
    "    \n",
    "    def __init__(self, inp, h1, out, dr):\n",
    "        super(model_1hl, self).__init__()\n",
    "\n",
    "        self.fc1 = nn.Linear(inp, h1) # lin trans\n",
    "        self.fc2 = nn.Linear(h1,  out)\n",
    "        \n",
    "        self.dropout   = nn.Dropout(p=dr) #normalizes by zeroing at random\n",
    "        self.ReLU      = nn.ReLU() # RELU(x) = max(0,x)\n",
    "        self.LeakyReLU = nn.LeakyReLU(0.2) # LeakyReLU = max(0,x) + neg_slope * min(0,x)\n",
    "        \n",
    "        # initialize the weights of the different layers\n",
    "        for m in self.modules(): \n",
    "            if isinstance(m, nn.BatchNorm3d) or isinstance(m, nn.BatchNorm1d): # if module is Batch normalization: y = gamma*(x -  E(x))/sqrt(Var(x) + eps) + b\n",
    "                nn.init.constant_(m.weight, 1) \n",
    "                nn.init.constant_(m.bias, 1)\n",
    "            elif isinstance(m, nn.Conv3d) or isinstance(m, nn.ConvTranspose2d) or isinstance(m, nn.Linear):\n",
    "                 '''if module is 3D Convolution: over an input signal composed of several input planes. or ConvTranspose2d Applies a 3D transposed convolution operator over an input image composed of several input planes. The transposed convolution operator multiplies each input value element-wise by a learnable kernel, and sums over the outputs from all input feature planes. Or Lin Trans'''\n",
    "                 nn.init.kaiming_normal_(m.weight) # normalization that makes extremely deep models (>30 layers) to converge\n",
    "       \n",
    "    # forward pass\n",
    "    def forward(self, x):\n",
    "        out = self.dropout(self.LeakyReLU(self.fc1(x))) # Apply leakyRELU on input and dropout normalize\n",
    "        out = self.fc2(out) \n",
    "        # out = nn.Softmax(out)\n",
    "        return out\n"
   ]
  },
  {
   "cell_type": "code",
   "execution_count": 17,
   "id": "28eaaa9e-9f4b-457b-8ef4-4ae44ccc302e",
   "metadata": {},
   "outputs": [],
   "source": [
    "# N hidden layer code, similar structure to above but generalized\n",
    "def dynamic_model2(input_size, output_size, n_layers, hidden, dr):\n",
    "\n",
    "    # define the tuple containing the different layers\n",
    "    layers = []\n",
    "\n",
    "    # get the hidden layers\n",
    "    in_features = input_size\n",
    "    for i in range(n_layers):\n",
    "        out_features = hidden[i]\n",
    "        layers.append(nn.Linear(in_features, out_features))\n",
    "        layers.append(nn.LeakyReLU(0.2))\n",
    "        layers.append(nn.Dropout(dr[i]))\n",
    "        in_features = out_features\n",
    "\n",
    "    # get the last layer\n",
    "    layers.append(nn.Linear(out_features, output_size))\n",
    "\n",
    "    # return the model\n",
    "    return nn.Sequential(*layers)\n",
    "\n",
    "#model = dynamic_model2(numFeatures, outSize, numHL, [h1, h2], [dr1, dr1])"
   ]
  },
  {
   "cell_type": "markdown",
   "id": "341bab04-be51-4090-98e7-5c73bc3bf5b1",
   "metadata": {},
   "source": [
    "## Data"
   ]
  },
  {
   "cell_type": "code",
   "execution_count": 18,
   "id": "d3d87990-f752-42a5-b013-32b6a36586c2",
   "metadata": {},
   "outputs": [],
   "source": [
    "from random import shuffle\n",
    "import torch \n",
    "from torch.utils.data.dataset import Dataset\n",
    "from torch.utils.data import DataLoader\n",
    "import numpy as np\n",
    "import sys, os, time, h5py\n",
    "from pathlib import Path"
   ]
  },
  {
   "cell_type": "code",
   "execution_count": 19,
   "id": "f4d80ba0-28ee-4373-a1b0-c8acf83eda66",
   "metadata": {},
   "outputs": [],
   "source": [
    "def normalize_data(data, labels):\n",
    "    ######################\n",
    "    # normalize input\n",
    "    ## the id's correspond to the id's of the feature array you made using vstack in read_data()\n",
    "    data[:,0]  = (data[:,0] - np.mean(data[:,0]))/np.std(data[:,0]) # Z Scores\n",
    "    data[:,1]  = (data[:,1] - np.mean(data[:,1]))/np.std(data[:,1])\n",
    "    data[:,2]  = (data[:,2] - np.mean(data[:,2]))/np.std(data[:,2])\n",
    "    data[:,3]  = (data[:,3] - np.mean(data[:,3]))/np.std(data[:,3])\n",
    "    data[:,4]  = (data[:,4] - np.mean(data[:,4]))/np.std(data[:,4])\n",
    "\n",
    "    ######################\n",
    "    # normalize labels\n",
    "    print (\"labels\", labels)\n",
    "\n",
    "    # # array = np.log10(labels) # Since labels are large log them\n",
    "    # print(\"labels array\", array)\n",
    "    # labels = array\n",
    "    \n",
    "    return data, labels"
   ]
  },
  {
   "cell_type": "code",
   "execution_count": 20,
   "id": "955c6404-d1ff-444d-b87a-98fbc5654be6",
   "metadata": {},
   "outputs": [],
   "source": [
    "# read data and get training, validation or testing sets\n",
    "# fin ---------> file with the data\n",
    "# seed --------> random seed used to split among different datasets\n",
    "# mode --------> 'train', 'valid', 'test' or 'all'\n",
    "# normalize ---> whether to normalize the data or not\n",
    "def read_data(fin, seed, mode, normalize): #fin for h5\n",
    "    File = 'catalog.h5'\n",
    "    f     = h5py.File(fin, 'r')\n",
    "    masses = []\n",
    "    fgases = []\n",
    "    SFRs = []\n",
    "    Mstars = []\n",
    "    redshifts = []\n",
    "    fescs = []\n",
    "    groups = []\n",
    "    for halo in f.keys():\n",
    "        fesc_list = list(f[halo]['fesc']) \n",
    "        for index, fesc in enumerate(fesc_list):\n",
    "            if fesc <= 0.01:\n",
    "                group = 0\n",
    "            elif 0.01 < fesc <= 0.10:\n",
    "                group = 1\n",
    "            elif 0.10 < fesc <= 0.25:\n",
    "                group = 2\n",
    "            else:\n",
    "                group = 3\n",
    "                \n",
    "            if fesc >= 1e-5:\n",
    "                masses.append(f[halo]['mass'][index])\n",
    "                fgases.append(f[halo]['fgas'][index])\n",
    "                SFRs.append(f[halo]['SFR'][index])\n",
    "                Mstars.append(f[halo]['Mstar'][index])\n",
    "                redshifts.append(f[halo]['redshift'][index])\n",
    "                fescs.append(fesc)\n",
    "                groups.append(group)  \n",
    "    # min_SFR = np.min(SFRs[SFRs != 0])\n",
    "    minsfr = 100\n",
    "    for each in SFRs:\n",
    "        if each < minsfr and each != 0.:\n",
    "            minsfr = each\n",
    "    new_SFRs = []\n",
    "    for SFR in SFRs:\n",
    "        if SFR == 0.0:\n",
    "            new_SFRs.append(minsfr*0.9)\n",
    "        else:\n",
    "            new_SFRs.append(SFR)        \n",
    "    # normalize data - EDIT\n",
    "    ## anything not on order 10^0 - 10^1 should be logged\n",
    "    masses = np.log10(masses)\n",
    "    SFRs = np.log10(new_SFRs)\n",
    "    Mstars = np.log10(Mstars)\n",
    "    fgases = np.log10(fgases)\n",
    "    \n",
    "    # get data, labels and number of elements\n",
    "    data = np.vstack([SFRs, Mstars, masses, redshifts, fgases]).T # THESE ARE YOUR CHOSEN INPUT VARIABLES\n",
    "    \n",
    "    labels = np.array(groups, dtype = 'int')\n",
    "    print(\"labels.shape\", labels.shape)\n",
    "    # labels = fluxes.reshape((fluxes.shape[0], fluxSize))\n",
    "    elements = data.shape[0]\n",
    "    \n",
    "    # normalize data\n",
    "    if normalize:  data, labels = normalize_data(data, labels)\n",
    "\n",
    "    # get the size and offset depending on the type of dataset\n",
    "    if   mode=='train':   size, offset = int(elements*0.70), int(elements*0.00)\n",
    "    elif mode=='valid':   size, offset = int(elements*0.15), int(elements*0.70)\n",
    "    elif mode=='test':    size, offset = int(elements*0.15), int(elements*0.85)\n",
    "    elif mode=='all':     size, offset = int(elements*1.00), int(elements*0.00)\n",
    "    else:                 raise Exception('Wrong name!')\n",
    "\n",
    "    # randomly shuffle the cubes. Instead of 0 1 2 3...999 have a \n",
    "    # random permutation. E.g. 5 9 0 29...342\n",
    "    np.random.seed(seed)\n",
    "    indexes = np.arange(elements) \n",
    "    np.random.shuffle(indexes)\n",
    "    indexes = indexes[offset:offset+size] #select indexes of mode\n",
    "\n",
    "    return data[indexes], labels[indexes]\n",
    "\n"
   ]
  },
  {
   "cell_type": "code",
   "execution_count": 21,
   "id": "c22aa39a-dd90-4a21-993d-415be2fdda23",
   "metadata": {},
   "outputs": [],
   "source": [
    "class make_dataset():\n",
    "\n",
    "    def __init__(self, mode, seed, fin):\n",
    "\n",
    "        # get data\n",
    "        inp, out = read_data(fin, seed, mode, normalize=True)\n",
    "\n",
    "        # get the corresponding bottlenecks and parameters\n",
    "        self.size   = inp.shape[0]\n",
    "        self.input  = torch.tensor(inp, dtype=torch.float32)\n",
    "        self.output = torch.tensor(out, dtype= torch.long)\n",
    "        \n",
    "        print (\"size of input and output\", np.shape(self.input), np.shape(self.output))\n",
    "        \n",
    "    def __len__(self):\n",
    "        return self.size\n",
    "\n",
    "    def __getitem__(self, idx):\n",
    "        return self.input[idx], self.output[idx]"
   ]
  },
  {
   "cell_type": "code",
   "execution_count": 22,
   "id": "7127543c-0bc8-40a7-8231-3f66e53528f8",
   "metadata": {},
   "outputs": [],
   "source": [
    "def create_dataset(mode, seed, fin, batch_size, shuffle):\n",
    "    data_set = make_dataset(mode, seed, fin)\n",
    "    dataset_loader = DataLoader(dataset=data_set, batch_size=batch_size, shuffle=shuffle)\n",
    "    return dataset_loader"
   ]
  },
  {
   "cell_type": "markdown",
   "id": "3be2af82-a86b-4c23-9ba7-c63404c9d6ea",
   "metadata": {},
   "source": [
    "## Main"
   ]
  },
  {
   "cell_type": "code",
   "execution_count": 56,
   "id": "3b74e526-e33d-487e-a5f9-d21ecc0dd923",
   "metadata": {},
   "outputs": [],
   "source": [
    "fin = 'catalog.h5'\n",
    "dataname = 'RP'      # Nickname for data\n",
    "seed = 20                # remember this to reproduce split\n",
    "numFeatures = 5         # number of input properties\n",
    "outSize = 4          # size of wavelength array\n",
    "featurelist = 'SFRs, Mstars, masses, redshifts, fgases'\n",
    "\n",
    "# OPTUNA HYPERPARMETERS\n",
    "numHL = 4           # number of hidden layers\n",
    "# h1 = 954                # nodes in first hidden layer\n",
    "h1_1 = 333           # nodes in second hidden layer\n",
    "h2_1 = 396\n",
    "h3_1 = 85\n",
    "h4_1 = 423\n",
    "dr1_1 = 0.493895281796021\n",
    "dr2_1 = 0.3460606793747979\n",
    "dr3_1 = 0.24913962166483994\n",
    "dr4_1 = 0.3978684708092593\n",
    "lr_1 = 0.0009539903601749256\n",
    "wd_1 = 0.009344986387296987"
   ]
  },
  {
   "cell_type": "markdown",
   "id": "dc03e0ec-7ca6-4ab6-9712-0c250a98f537",
   "metadata": {},
   "source": [
    "Trial 47 finished with value: 0.8576046586036682 and parameters: {'n_layers': 4, 'n_units_l0': 333, 'dropout_l0': 0.493895281796021, 'n_units_l1': 396, 'dropout_l1': 0.3460606793747979, 'n_units_l2': 85, 'dropout_l2': 0.24913962166483994, 'n_units_l3': 423, 'dropout_l3': 0.3978684708092593, 'lr': 0.0009539903601749256, 'wd': 0.009344986387296987}. Best is trial 47 with value: 0.8576046586036682."
   ]
  },
  {
   "cell_type": "code",
   "execution_count": 73,
   "id": "545068db-b55a-4455-8a8e-33598e05b417",
   "metadata": {},
   "outputs": [],
   "source": [
    "# OPTUNA HYPERPARMETERS\n",
    "numHL = 4           # number of hidden layers\n",
    "# h1 = 954                # nodes in first hidden layer\n",
    "h1_2 = 462           # nodes in second hidden layer\n",
    "h2_2 = 482\n",
    "h3_2 = 189\n",
    "h4_2 = 381\n",
    "dr1_2 = 0.4864343558320114\n",
    "dr2_2 = 0.307569229312319\n",
    "dr3_2 = 0.2633390537317342\n",
    "dr4_2 = 0.3584793881173535\n",
    "lr_2 = 0.0008946090999908592\n",
    "wd_2 = 0.005752129050507543"
   ]
  },
  {
   "cell_type": "markdown",
   "id": "99b33740-3def-46ad-b3c7-669c6fdbc48d",
   "metadata": {},
   "source": [
    "Trial 44 finished with value: 0.879888904094696 and parameters: {'n_layers': 4, 'n_units_l0': 462, 'dropout_l0': 0.4864343558320114, 'n_units_l1': 482, 'dropout_l1': 0.3075692293123195, 'n_units_l2': 189, 'dropout_l2': 0.2633390537317342, 'n_units_l3': 381, 'dropout_l3': 0.3584793881173535, 'lr': 0.0008946090999908592, 'wd': 0.005752129050507543}. Best is trial 44 with value: 0.879888904094696."
   ]
  },
  {
   "cell_type": "code",
   "execution_count": 74,
   "id": "88abf616-5fe7-4d4d-a2d6-7f1314cda00a",
   "metadata": {},
   "outputs": [],
   "source": [
    "num_HL_3 = 3\n",
    "h1_3 = 417           # nodes in second hidden layer\n",
    "h2_3 = 355\n",
    "h3_3 = 217\n",
    "dr1_3 = 0.5972764016330773\n",
    "dr2_3 = 0.20543964034999765\n",
    "dr3_3 = 0.28705254287957593\n",
    "lr_3 = 0.0005841898787632884\n",
    "wd_3 = 0.002022271824771725"
   ]
  },
  {
   "cell_type": "markdown",
   "id": "930f3a7b-8d21-441d-adb9-d8cfba25b41c",
   "metadata": {},
   "source": [
    "Trial 37 finished with value: 0.8831483840942382 and parameters: {'n_layers': 3, 'n_units_l0': 417, 'dropout_l0': 0.5972764016330773, 'n_units_l1': 355, 'dropout_l1': 0.20543964034999765, 'n_units_l2': 217, 'dropout_l2': 0.28705254287957593, 'lr': 0.0005841898787632884, 'wd': 0.002022271824771725}. Best is trial 37 with value: 0.8831483840942382."
   ]
  },
  {
   "cell_type": "code",
   "execution_count": 75,
   "id": "5cbc2abd-dac6-4d99-a0f2-b2f6e56c5792",
   "metadata": {},
   "outputs": [],
   "source": [
    "h1_non = 150\n",
    "h2_non = 150\n",
    "numHL_non = 2\n",
    "# # # dr1 = 0.20103              # dropout rate for layer 1\n",
    "dr1_non = 0.35\n",
    "# # # training parameters\n",
    "batch_size = 256\n",
    "# # # lr         = 1.404e-3     (learning rate)\n",
    "lr_non = 0.01\n",
    "epochs     = 1000\n",
    "# # # wd         = 1.195e-6\n",
    "wd_non = 0"
   ]
  },
  {
   "cell_type": "code",
   "execution_count": 60,
   "id": "2398ce82-ca38-4415-b82d-2370dbe7bb96",
   "metadata": {},
   "outputs": [
    {
     "name": "stdout",
     "output_type": "stream",
     "text": [
      "preparing dataset...\n",
      "labels.shape (2139,)\n",
      "labels [1 1 1 ... 0 0 0]\n",
      "size of input and output torch.Size([1497, 5]) torch.Size([1497])\n",
      "labels.shape (2139,)\n",
      "labels [1 1 1 ... 0 0 0]\n",
      "size of input and output torch.Size([320, 5]) torch.Size([320])\n",
      "labels.shape (2139,)\n",
      "labels [1 1 1 ... 0 0 0]\n",
      "size of input and output torch.Size([320, 5]) torch.Size([320])\n"
     ]
    }
   ],
   "source": [
    "# name of output files\n",
    "\n",
    "\n",
    "name   = \"Normal_dynamicmodel2\"\n",
    "device = torch.device('cpu')\n",
    "# define loss function\n",
    "criterion = nn.CrossEntropyLoss()  # MSE or Cross Entropy\n",
    "\n",
    "# get train, validation, and test sets\n",
    "print('preparing dataset...')\n",
    "train_loader = create_dataset('train', seed, fin, batch_size, True)\n",
    "valid_loader = create_dataset('valid', seed, fin, batch_size, False)\n",
    "test_loader  = create_dataset('test',  seed, fin, batch_size, False)\n",
    "\n"
   ]
  },
  {
   "cell_type": "code",
   "execution_count": 80,
   "id": "8a4b870c-06cb-46cf-8632-b5c985c07ac5",
   "metadata": {},
   "outputs": [],
   "source": [
    "#model_non = dynamic_model2(numFeatures, outSize, numHL_non, [h1_non, h2_non], [dr1_non, dr1_non])\n",
    "model = dynamic_model2(numFeatures, outSize, num_HL_3, [h1_3, h2_3, h3_3], [dr1_3, dr2_3, dr3_3])"
   ]
  },
  {
   "cell_type": "code",
   "execution_count": 81,
   "id": "01e2d24e-6fbd-412f-8b0e-be4236e53f10",
   "metadata": {
    "scrolled": true
   },
   "outputs": [
    {
     "name": "stdout",
     "output_type": "stream",
     "text": [
      "total number of parameters in the model = 229016\n",
      "000 1.293e+00 1.178e+00 (saving)\n",
      "001 1.146e+00 1.095e+00 (saving)\n",
      "002 1.104e+00 1.075e+00 (saving)\n",
      "003 1.088e+00 1.056e+00 (saving)\n",
      "004 1.075e+00 1.045e+00 (saving)\n",
      "005 1.068e+00 1.039e+00 (saving)\n",
      "006 1.051e+00 1.035e+00 (saving)\n",
      "007 1.051e+00 1.030e+00 (saving)\n",
      "008 1.046e+00 1.019e+00 (saving)\n",
      "009 1.033e+00 1.026e+00\n",
      "010 1.035e+00 1.014e+00 (saving)\n",
      "011 1.033e+00 1.009e+00 (saving)\n",
      "012 1.029e+00 1.009e+00\n",
      "013 1.026e+00 1.010e+00\n",
      "014 1.029e+00 1.012e+00\n",
      "015 1.016e+00 1.022e+00\n",
      "016 1.018e+00 1.001e+00 (saving)\n",
      "017 1.021e+00 1.004e+00\n",
      "018 1.020e+00 1.005e+00\n",
      "019 1.023e+00 1.004e+00\n",
      "020 1.012e+00 1.005e+00\n",
      "021 1.015e+00 1.004e+00\n",
      "022 1.018e+00 1.002e+00\n",
      "023 1.015e+00 1.003e+00\n",
      "024 1.019e+00 1.000e+00 (saving)\n",
      "025 1.010e+00 9.938e-01 (saving)\n",
      "026 1.003e+00 9.993e-01\n",
      "027 1.018e+00 1.016e+00\n",
      "028 1.009e+00 9.986e-01\n",
      "029 1.001e+00 9.944e-01\n",
      "030 9.968e-01 9.955e-01\n",
      "031 1.005e+00 9.945e-01\n",
      "032 9.999e-01 9.940e-01\n",
      "033 1.011e+00 9.915e-01 (saving)\n",
      "034 1.007e+00 9.935e-01\n",
      "035 1.006e+00 9.913e-01 (saving)\n",
      "036 9.842e-01 9.979e-01\n",
      "037 9.884e-01 9.893e-01 (saving)\n",
      "038 1.006e+00 9.900e-01\n",
      "039 9.981e-01 9.887e-01 (saving)\n",
      "040 9.974e-01 9.907e-01\n",
      "041 9.925e-01 9.897e-01\n",
      "042 9.959e-01 9.887e-01 (saving)\n",
      "043 9.950e-01 9.944e-01\n",
      "044 9.929e-01 9.896e-01\n",
      "045 9.843e-01 9.839e-01 (saving)\n",
      "046 9.904e-01 9.887e-01\n",
      "047 9.875e-01 9.900e-01\n",
      "048 9.897e-01 9.859e-01\n",
      "049 9.809e-01 9.887e-01\n",
      "050 9.979e-01 9.875e-01\n",
      "051 9.914e-01 9.882e-01\n",
      "052 9.794e-01 9.833e-01 (saving)\n",
      "053 9.906e-01 9.853e-01\n",
      "054 9.779e-01 9.837e-01\n",
      "055 9.841e-01 9.942e-01\n",
      "056 9.846e-01 9.931e-01\n",
      "057 9.817e-01 9.807e-01 (saving)\n",
      "058 9.761e-01 9.811e-01\n",
      "059 9.788e-01 9.833e-01\n",
      "060 9.699e-01 9.811e-01\n",
      "061 9.749e-01 9.836e-01\n",
      "062 9.810e-01 9.809e-01\n",
      "063 9.747e-01 9.819e-01\n",
      "064 9.742e-01 9.859e-01\n",
      "065 9.727e-01 9.885e-01\n",
      "066 9.745e-01 9.777e-01 (saving)\n",
      "067 9.694e-01 9.821e-01\n",
      "068 9.726e-01 9.891e-01\n",
      "069 9.762e-01 9.823e-01\n",
      "070 9.726e-01 9.781e-01\n",
      "071 9.766e-01 9.832e-01\n",
      "072 9.742e-01 9.837e-01\n",
      "073 9.717e-01 9.799e-01\n",
      "074 9.775e-01 9.848e-01\n",
      "075 9.737e-01 9.836e-01\n",
      "076 9.632e-01 9.794e-01\n",
      "077 9.574e-01 9.804e-01\n",
      "078 9.557e-01 9.755e-01 (saving)\n",
      "079 9.591e-01 9.807e-01\n",
      "080 9.706e-01 9.868e-01\n",
      "081 9.683e-01 9.854e-01\n",
      "082 9.771e-01 9.798e-01\n",
      "083 9.768e-01 9.782e-01\n",
      "084 9.633e-01 9.868e-01\n",
      "085 9.573e-01 9.761e-01\n",
      "086 9.608e-01 9.776e-01\n",
      "087 9.613e-01 9.804e-01\n",
      "088 9.600e-01 9.799e-01\n",
      "089 9.666e-01 9.795e-01\n",
      "090 9.659e-01 9.725e-01 (saving)\n",
      "091 9.511e-01 9.764e-01\n",
      "092 9.466e-01 9.801e-01\n",
      "093 9.601e-01 9.765e-01\n",
      "094 9.575e-01 9.732e-01\n",
      "095 9.573e-01 9.728e-01\n",
      "096 9.549e-01 9.788e-01\n",
      "097 9.551e-01 9.747e-01\n",
      "098 9.508e-01 9.726e-01\n",
      "099 9.466e-01 9.745e-01\n",
      "100 9.620e-01 9.744e-01\n",
      "101 9.436e-01 9.693e-01 (saving)\n",
      "102 9.427e-01 9.770e-01\n",
      "103 9.493e-01 9.693e-01 (saving)\n",
      "104 9.498e-01 9.657e-01 (saving)\n",
      "105 9.534e-01 9.704e-01\n",
      "106 9.517e-01 9.738e-01\n",
      "107 9.564e-01 9.672e-01\n",
      "108 9.455e-01 9.730e-01\n",
      "109 9.530e-01 9.736e-01\n",
      "110 9.507e-01 9.718e-01\n",
      "111 9.518e-01 9.695e-01\n",
      "112 9.350e-01 9.636e-01 (saving)\n",
      "113 9.404e-01 9.655e-01\n",
      "114 9.420e-01 9.653e-01\n",
      "115 9.399e-01 9.633e-01 (saving)\n",
      "116 9.521e-01 9.690e-01\n",
      "117 9.459e-01 9.745e-01\n",
      "118 9.508e-01 9.756e-01\n",
      "119 9.460e-01 9.678e-01\n",
      "120 9.352e-01 9.682e-01\n",
      "121 9.470e-01 9.694e-01\n",
      "122 9.455e-01 9.714e-01\n",
      "123 9.371e-01 9.728e-01\n",
      "124 9.427e-01 9.697e-01\n",
      "125 9.393e-01 9.714e-01\n",
      "126 9.373e-01 9.788e-01\n",
      "127 9.332e-01 9.623e-01 (saving)\n",
      "128 9.373e-01 9.667e-01\n",
      "129 9.356e-01 9.684e-01\n",
      "130 9.470e-01 9.671e-01\n",
      "131 9.421e-01 9.675e-01\n",
      "132 9.381e-01 9.711e-01\n",
      "133 9.397e-01 9.718e-01\n",
      "134 9.368e-01 9.695e-01\n",
      "135 9.362e-01 9.780e-01\n",
      "136 9.471e-01 9.692e-01\n",
      "137 9.396e-01 9.603e-01 (saving)\n",
      "138 9.252e-01 9.688e-01\n",
      "139 9.363e-01 9.687e-01\n",
      "140 9.207e-01 9.655e-01\n",
      "141 9.294e-01 9.617e-01\n",
      "142 9.242e-01 9.661e-01\n",
      "143 9.297e-01 9.673e-01\n",
      "144 9.230e-01 9.684e-01\n",
      "145 9.340e-01 9.647e-01\n",
      "146 9.340e-01 9.547e-01 (saving)\n",
      "147 9.286e-01 9.649e-01\n",
      "148 9.327e-01 9.641e-01\n",
      "149 9.245e-01 9.657e-01\n",
      "150 9.160e-01 9.618e-01\n",
      "151 9.243e-01 9.671e-01\n",
      "152 9.126e-01 9.548e-01\n",
      "153 9.259e-01 9.705e-01\n",
      "154 9.207e-01 9.657e-01\n",
      "155 9.196e-01 9.576e-01\n",
      "156 9.264e-01 9.653e-01\n",
      "157 9.366e-01 9.588e-01\n",
      "158 9.202e-01 9.608e-01\n",
      "159 9.276e-01 9.640e-01\n",
      "160 9.286e-01 9.610e-01\n",
      "161 9.126e-01 9.676e-01\n",
      "162 9.109e-01 9.688e-01\n",
      "163 9.177e-01 9.647e-01\n",
      "164 9.073e-01 9.616e-01\n",
      "165 9.146e-01 9.626e-01\n",
      "166 9.301e-01 9.715e-01\n",
      "167 9.297e-01 9.556e-01\n",
      "168 9.216e-01 9.655e-01\n",
      "169 9.203e-01 9.538e-01 (saving)\n",
      "170 9.262e-01 9.637e-01\n",
      "171 9.118e-01 9.640e-01\n",
      "172 9.149e-01 9.631e-01\n",
      "173 9.140e-01 9.691e-01\n",
      "174 9.130e-01 9.819e-01\n",
      "175 9.218e-01 9.661e-01\n",
      "176 9.117e-01 9.686e-01\n",
      "177 9.176e-01 9.566e-01\n",
      "178 9.155e-01 9.609e-01\n",
      "179 9.198e-01 9.631e-01\n",
      "180 9.095e-01 9.558e-01\n",
      "181 9.068e-01 9.581e-01\n",
      "182 9.059e-01 9.636e-01\n",
      "183 9.112e-01 9.641e-01\n",
      "184 9.129e-01 9.594e-01\n",
      "185 9.107e-01 9.599e-01\n",
      "186 9.125e-01 9.668e-01\n",
      "187 9.050e-01 9.617e-01\n",
      "188 9.120e-01 9.685e-01\n",
      "189 9.066e-01 9.668e-01\n",
      "190 9.073e-01 9.609e-01\n",
      "191 9.161e-01 9.646e-01\n",
      "192 8.953e-01 9.611e-01\n",
      "193 9.114e-01 9.586e-01\n",
      "194 9.089e-01 9.596e-01\n",
      "195 9.157e-01 9.686e-01\n",
      "196 9.084e-01 9.575e-01\n",
      "197 9.083e-01 9.698e-01\n",
      "198 9.029e-01 9.613e-01\n",
      "199 9.245e-01 9.577e-01\n",
      "200 9.282e-01 9.636e-01\n",
      "201 9.097e-01 9.554e-01\n",
      "202 8.915e-01 9.525e-01 (saving)\n",
      "203 8.989e-01 9.697e-01\n",
      "204 9.094e-01 9.627e-01\n",
      "205 9.133e-01 9.616e-01\n",
      "206 9.011e-01 9.527e-01\n",
      "207 9.095e-01 9.640e-01\n",
      "208 8.901e-01 9.572e-01\n",
      "209 8.997e-01 9.634e-01\n",
      "210 9.016e-01 9.606e-01\n",
      "211 9.010e-01 9.697e-01\n",
      "212 9.105e-01 9.633e-01\n",
      "213 8.978e-01 9.577e-01\n",
      "214 9.061e-01 9.728e-01\n",
      "215 8.998e-01 9.607e-01\n",
      "216 8.869e-01 9.585e-01\n",
      "217 8.806e-01 9.515e-01 (saving)\n",
      "218 9.026e-01 9.728e-01\n",
      "219 9.059e-01 9.550e-01\n",
      "220 8.859e-01 9.544e-01\n",
      "221 8.912e-01 9.585e-01\n",
      "222 8.862e-01 9.526e-01\n",
      "223 8.962e-01 9.641e-01\n",
      "224 8.965e-01 9.641e-01\n",
      "225 8.873e-01 9.690e-01\n",
      "226 8.952e-01 9.795e-01\n",
      "227 8.892e-01 9.805e-01\n",
      "228 9.063e-01 9.654e-01\n",
      "229 8.870e-01 9.825e-01\n",
      "230 8.894e-01 9.636e-01\n",
      "231 8.915e-01 9.637e-01\n",
      "232 8.839e-01 9.749e-01\n",
      "233 8.990e-01 9.726e-01\n",
      "234 8.841e-01 9.594e-01\n",
      "235 8.934e-01 9.643e-01\n",
      "236 8.893e-01 9.689e-01\n",
      "237 8.807e-01 9.668e-01\n",
      "238 8.855e-01 9.738e-01\n",
      "239 8.861e-01 9.688e-01\n",
      "240 8.723e-01 9.857e-01\n",
      "241 8.965e-01 9.713e-01\n",
      "242 8.895e-01 9.758e-01\n",
      "243 8.846e-01 9.634e-01\n",
      "244 8.931e-01 9.713e-01\n",
      "245 8.891e-01 9.575e-01\n",
      "246 8.860e-01 9.686e-01\n",
      "247 8.814e-01 9.630e-01\n",
      "248 8.980e-01 9.652e-01\n",
      "249 8.831e-01 9.647e-01\n",
      "250 8.839e-01 9.508e-01 (saving)\n",
      "251 8.790e-01 9.747e-01\n",
      "252 8.747e-01 9.482e-01 (saving)\n",
      "253 8.799e-01 9.601e-01\n",
      "254 8.674e-01 9.636e-01\n",
      "255 8.923e-01 9.580e-01\n",
      "256 8.796e-01 9.654e-01\n",
      "257 8.961e-01 9.630e-01\n",
      "258 8.720e-01 9.630e-01\n",
      "259 8.781e-01 9.830e-01\n",
      "260 8.931e-01 9.652e-01\n",
      "261 8.840e-01 9.615e-01\n",
      "262 8.789e-01 9.606e-01\n",
      "263 8.774e-01 9.676e-01\n",
      "264 8.773e-01 9.728e-01\n",
      "265 8.661e-01 9.666e-01\n",
      "266 8.843e-01 9.606e-01\n",
      "267 8.719e-01 9.744e-01\n",
      "268 8.871e-01 9.623e-01\n",
      "269 8.742e-01 9.715e-01\n",
      "270 8.757e-01 9.685e-01\n",
      "271 8.704e-01 9.619e-01\n",
      "272 8.751e-01 9.692e-01\n",
      "273 8.820e-01 9.623e-01\n",
      "274 8.595e-01 9.624e-01\n",
      "275 8.695e-01 9.866e-01\n",
      "276 8.695e-01 9.714e-01\n",
      "277 8.709e-01 9.679e-01\n",
      "278 8.849e-01 9.680e-01\n",
      "279 8.581e-01 9.826e-01\n",
      "280 8.713e-01 9.811e-01\n",
      "281 8.799e-01 9.650e-01\n",
      "282 8.662e-01 9.757e-01\n",
      "283 8.625e-01 9.606e-01\n",
      "284 8.564e-01 9.644e-01\n",
      "285 8.689e-01 9.633e-01\n",
      "286 8.700e-01 9.768e-01\n",
      "287 8.801e-01 9.804e-01\n",
      "288 8.870e-01 9.647e-01\n",
      "289 8.699e-01 9.644e-01\n",
      "290 8.805e-01 9.732e-01\n",
      "291 8.770e-01 9.685e-01\n",
      "292 8.687e-01 9.621e-01\n",
      "293 8.744e-01 9.584e-01\n",
      "294 8.528e-01 9.622e-01\n",
      "295 8.663e-01 9.618e-01\n",
      "296 8.711e-01 9.595e-01\n",
      "297 8.607e-01 9.567e-01\n",
      "298 8.714e-01 9.666e-01\n",
      "299 8.523e-01 9.555e-01\n",
      "300 8.601e-01 9.546e-01\n",
      "301 8.645e-01 9.606e-01\n",
      "302 8.742e-01 9.734e-01\n",
      "303 8.788e-01 9.855e-01\n",
      "304 8.634e-01 9.607e-01\n",
      "305 8.517e-01 9.594e-01\n",
      "306 8.683e-01 9.601e-01\n",
      "307 8.631e-01 9.745e-01\n",
      "308 8.537e-01 9.533e-01\n",
      "309 8.587e-01 9.615e-01\n",
      "310 8.573e-01 9.640e-01\n",
      "311 8.560e-01 9.743e-01\n",
      "312 8.759e-01 9.741e-01\n",
      "313 8.562e-01 9.709e-01\n",
      "314 8.493e-01 9.575e-01\n",
      "315 8.695e-01 9.589e-01\n",
      "316 8.521e-01 9.630e-01\n",
      "317 8.580e-01 9.669e-01\n",
      "318 8.540e-01 9.653e-01\n",
      "319 8.497e-01 9.701e-01\n",
      "320 8.522e-01 9.663e-01\n",
      "321 8.601e-01 9.648e-01\n",
      "322 8.496e-01 9.641e-01\n",
      "323 8.606e-01 9.670e-01\n",
      "324 8.402e-01 9.672e-01\n",
      "325 8.654e-01 9.537e-01\n",
      "326 8.467e-01 9.649e-01\n",
      "327 8.679e-01 9.690e-01\n",
      "328 8.563e-01 9.636e-01\n",
      "329 8.722e-01 9.767e-01\n",
      "330 8.521e-01 9.581e-01\n",
      "331 8.527e-01 9.661e-01\n",
      "332 8.533e-01 9.725e-01\n",
      "333 8.555e-01 9.710e-01\n",
      "334 8.632e-01 9.700e-01\n",
      "335 8.476e-01 9.682e-01\n",
      "336 8.401e-01 9.734e-01\n",
      "337 8.569e-01 9.762e-01\n",
      "338 8.564e-01 9.590e-01\n",
      "339 8.590e-01 9.645e-01\n",
      "340 8.503e-01 9.653e-01\n",
      "341 8.506e-01 9.630e-01\n",
      "342 8.730e-01 9.729e-01\n",
      "343 8.562e-01 9.599e-01\n",
      "344 8.536e-01 9.595e-01\n",
      "345 8.445e-01 9.688e-01\n",
      "346 8.502e-01 9.646e-01\n",
      "347 8.432e-01 9.672e-01\n",
      "348 8.491e-01 9.635e-01\n",
      "349 8.471e-01 9.622e-01\n",
      "350 8.452e-01 9.719e-01\n",
      "351 8.485e-01 9.748e-01\n",
      "352 8.453e-01 9.653e-01\n",
      "353 8.435e-01 9.665e-01\n",
      "354 8.470e-01 9.580e-01\n",
      "355 8.387e-01 9.656e-01\n",
      "356 8.502e-01 9.668e-01\n",
      "357 8.471e-01 9.565e-01\n",
      "358 8.306e-01 9.655e-01\n",
      "359 8.473e-01 9.715e-01\n",
      "360 8.466e-01 9.649e-01\n",
      "361 8.532e-01 9.622e-01\n",
      "362 8.518e-01 9.655e-01\n",
      "363 8.460e-01 9.601e-01\n",
      "364 8.479e-01 9.700e-01\n",
      "365 8.373e-01 9.705e-01\n",
      "366 8.476e-01 9.571e-01\n",
      "367 8.227e-01 9.615e-01\n",
      "368 8.386e-01 9.597e-01\n",
      "369 8.414e-01 9.699e-01\n",
      "370 8.366e-01 9.652e-01\n",
      "371 8.516e-01 9.703e-01\n",
      "372 8.399e-01 9.608e-01\n",
      "373 8.483e-01 9.603e-01\n",
      "374 8.435e-01 9.736e-01\n",
      "375 8.363e-01 9.512e-01\n",
      "376 8.483e-01 9.620e-01\n",
      "377 8.449e-01 9.552e-01\n",
      "378 8.442e-01 9.630e-01\n",
      "379 8.274e-01 9.600e-01\n",
      "380 8.493e-01 9.668e-01\n",
      "381 8.462e-01 9.571e-01\n",
      "382 8.237e-01 9.555e-01\n",
      "383 8.439e-01 9.716e-01\n",
      "384 8.396e-01 9.566e-01\n",
      "385 8.216e-01 9.698e-01\n",
      "386 8.589e-01 9.546e-01\n",
      "387 8.529e-01 9.635e-01\n",
      "388 8.423e-01 9.788e-01\n",
      "389 8.694e-01 9.661e-01\n",
      "390 8.304e-01 9.719e-01\n",
      "391 8.234e-01 9.643e-01\n",
      "392 8.546e-01 9.687e-01\n",
      "393 8.304e-01 9.649e-01\n",
      "394 8.478e-01 9.624e-01\n",
      "395 8.298e-01 9.740e-01\n",
      "396 8.311e-01 9.647e-01\n",
      "397 8.427e-01 9.656e-01\n",
      "398 8.413e-01 9.543e-01\n",
      "399 8.325e-01 9.711e-01\n",
      "400 8.290e-01 9.719e-01\n",
      "401 8.224e-01 9.661e-01\n",
      "402 8.215e-01 9.624e-01\n",
      "403 8.326e-01 9.608e-01\n",
      "404 8.212e-01 9.712e-01\n",
      "405 8.218e-01 9.723e-01\n",
      "406 8.356e-01 9.623e-01\n",
      "407 8.435e-01 9.757e-01\n",
      "408 8.320e-01 9.761e-01\n",
      "409 8.414e-01 9.636e-01\n",
      "410 8.150e-01 9.569e-01\n",
      "411 8.298e-01 9.749e-01\n",
      "412 8.224e-01 9.760e-01\n",
      "413 8.384e-01 9.769e-01\n",
      "414 8.305e-01 9.615e-01\n",
      "415 8.331e-01 9.528e-01\n",
      "416 8.186e-01 9.688e-01\n",
      "417 8.267e-01 9.625e-01\n",
      "418 8.219e-01 9.551e-01\n",
      "419 8.353e-01 9.681e-01\n",
      "420 8.350e-01 9.637e-01\n",
      "421 8.202e-01 9.646e-01\n",
      "422 8.183e-01 9.587e-01\n",
      "423 8.373e-01 9.652e-01\n",
      "424 8.366e-01 9.614e-01\n",
      "425 8.262e-01 9.600e-01\n",
      "426 8.281e-01 9.685e-01\n",
      "427 8.303e-01 9.642e-01\n",
      "428 8.354e-01 9.535e-01\n",
      "429 8.262e-01 9.673e-01\n",
      "430 8.193e-01 9.492e-01\n",
      "431 8.223e-01 9.520e-01\n",
      "432 8.294e-01 9.465e-01 (saving)\n",
      "433 8.203e-01 9.711e-01\n",
      "434 8.388e-01 9.663e-01\n",
      "435 8.150e-01 9.510e-01\n",
      "436 8.204e-01 9.699e-01\n",
      "437 8.123e-01 9.538e-01\n",
      "438 8.229e-01 9.538e-01\n",
      "439 8.020e-01 9.683e-01\n",
      "440 8.213e-01 9.610e-01\n",
      "441 8.194e-01 9.469e-01\n",
      "442 8.309e-01 9.577e-01\n",
      "443 8.319e-01 9.558e-01\n",
      "444 8.193e-01 9.677e-01\n",
      "445 8.152e-01 9.553e-01\n",
      "446 8.219e-01 9.554e-01\n",
      "447 8.270e-01 9.619e-01\n",
      "448 8.052e-01 9.501e-01\n",
      "449 8.245e-01 9.504e-01\n",
      "450 8.099e-01 9.638e-01\n",
      "451 8.241e-01 9.508e-01\n",
      "452 8.148e-01 9.529e-01\n",
      "453 8.252e-01 9.564e-01\n",
      "454 8.023e-01 9.531e-01\n",
      "455 8.236e-01 9.613e-01\n",
      "456 8.067e-01 9.662e-01\n",
      "457 8.225e-01 9.565e-01\n",
      "458 8.339e-01 9.571e-01\n",
      "459 8.029e-01 9.628e-01\n",
      "460 8.280e-01 9.626e-01\n",
      "461 8.349e-01 9.522e-01\n",
      "462 8.127e-01 9.641e-01\n",
      "463 8.066e-01 9.569e-01\n",
      "464 8.109e-01 9.594e-01\n",
      "465 8.019e-01 9.576e-01\n",
      "466 8.077e-01 9.801e-01\n",
      "467 8.219e-01 9.641e-01\n",
      "468 8.125e-01 9.525e-01\n",
      "469 8.212e-01 9.607e-01\n",
      "470 8.144e-01 9.622e-01\n",
      "471 8.166e-01 9.574e-01\n",
      "472 8.146e-01 9.593e-01\n",
      "473 8.171e-01 9.565e-01\n",
      "474 8.227e-01 9.587e-01\n",
      "475 8.096e-01 9.519e-01\n",
      "476 8.161e-01 9.540e-01\n",
      "477 8.054e-01 9.572e-01\n",
      "478 8.144e-01 9.682e-01\n",
      "479 8.158e-01 9.728e-01\n",
      "480 8.069e-01 9.549e-01\n",
      "481 8.088e-01 9.646e-01\n",
      "482 8.029e-01 9.724e-01\n",
      "483 8.041e-01 9.536e-01\n",
      "484 8.102e-01 9.639e-01\n",
      "485 8.245e-01 9.499e-01\n",
      "486 8.115e-01 9.627e-01\n",
      "487 8.099e-01 9.614e-01\n",
      "488 8.056e-01 9.585e-01\n",
      "489 7.898e-01 9.781e-01\n",
      "490 8.268e-01 9.555e-01\n",
      "491 7.931e-01 9.651e-01\n",
      "492 8.067e-01 9.622e-01\n",
      "493 8.116e-01 9.634e-01\n",
      "494 8.027e-01 9.592e-01\n",
      "495 8.008e-01 9.543e-01\n",
      "496 8.275e-01 9.630e-01\n",
      "497 8.155e-01 9.521e-01\n",
      "498 8.100e-01 9.575e-01\n",
      "499 8.159e-01 9.628e-01\n",
      "500 8.099e-01 9.751e-01\n",
      "501 8.161e-01 9.691e-01\n",
      "502 8.199e-01 9.558e-01\n",
      "503 8.219e-01 9.526e-01\n",
      "504 8.046e-01 9.623e-01\n",
      "505 8.117e-01 9.619e-01\n",
      "506 8.165e-01 9.661e-01\n",
      "507 8.211e-01 9.562e-01\n",
      "508 7.868e-01 9.552e-01\n",
      "509 8.041e-01 9.609e-01\n",
      "510 7.877e-01 9.596e-01\n",
      "511 7.966e-01 9.662e-01\n",
      "512 8.139e-01 9.643e-01\n",
      "513 7.909e-01 9.544e-01\n",
      "514 7.983e-01 9.593e-01\n",
      "515 7.972e-01 9.556e-01\n",
      "516 7.994e-01 9.633e-01\n",
      "517 7.957e-01 9.492e-01\n",
      "518 8.120e-01 9.621e-01\n",
      "519 8.115e-01 9.635e-01\n",
      "520 8.064e-01 9.624e-01\n",
      "521 8.094e-01 9.550e-01\n",
      "522 7.968e-01 9.672e-01\n",
      "523 8.092e-01 9.623e-01\n",
      "524 8.051e-01 9.577e-01\n",
      "525 8.005e-01 9.630e-01\n",
      "526 8.100e-01 9.592e-01\n",
      "527 7.976e-01 9.650e-01\n",
      "528 8.040e-01 9.620e-01\n",
      "529 8.002e-01 9.682e-01\n",
      "530 7.936e-01 9.510e-01\n",
      "531 8.101e-01 9.579e-01\n",
      "532 8.175e-01 9.492e-01\n",
      "533 7.959e-01 9.453e-01 (saving)\n",
      "534 8.045e-01 9.544e-01\n",
      "535 8.211e-01 9.556e-01\n",
      "536 8.095e-01 9.679e-01\n",
      "537 7.938e-01 9.528e-01\n",
      "538 7.925e-01 9.474e-01\n",
      "539 7.977e-01 9.592e-01\n",
      "540 7.872e-01 9.597e-01\n",
      "541 8.053e-01 9.624e-01\n",
      "542 7.968e-01 9.662e-01\n",
      "543 8.009e-01 9.595e-01\n",
      "544 7.966e-01 9.588e-01\n",
      "545 7.845e-01 9.641e-01\n",
      "546 7.748e-01 9.551e-01\n",
      "547 7.994e-01 9.720e-01\n",
      "548 7.916e-01 9.655e-01\n",
      "549 7.958e-01 9.716e-01\n",
      "550 7.834e-01 9.675e-01\n",
      "551 7.733e-01 9.619e-01\n",
      "552 8.112e-01 9.524e-01\n",
      "553 8.063e-01 9.832e-01\n",
      "554 7.998e-01 9.622e-01\n",
      "555 8.040e-01 9.531e-01\n",
      "556 7.747e-01 9.619e-01\n",
      "557 7.720e-01 9.652e-01\n",
      "558 7.843e-01 9.645e-01\n",
      "559 7.930e-01 9.625e-01\n",
      "560 7.886e-01 9.712e-01\n",
      "561 7.758e-01 9.572e-01\n",
      "562 7.928e-01 9.603e-01\n",
      "563 8.064e-01 9.587e-01\n",
      "564 7.941e-01 9.587e-01\n",
      "565 7.898e-01 9.502e-01\n",
      "566 7.948e-01 9.451e-01 (saving)\n",
      "567 7.827e-01 9.606e-01\n",
      "568 7.912e-01 9.569e-01\n",
      "569 7.875e-01 9.489e-01\n",
      "570 7.758e-01 9.638e-01\n",
      "571 7.985e-01 9.503e-01\n",
      "572 7.822e-01 9.574e-01\n",
      "573 8.046e-01 9.574e-01\n",
      "574 7.874e-01 9.567e-01\n",
      "575 7.918e-01 9.541e-01\n",
      "576 8.039e-01 9.570e-01\n",
      "577 7.922e-01 9.459e-01\n",
      "578 7.695e-01 9.531e-01\n",
      "579 7.766e-01 9.618e-01\n",
      "580 8.135e-01 9.576e-01\n",
      "581 7.908e-01 9.614e-01\n",
      "582 7.787e-01 9.539e-01\n",
      "583 7.820e-01 9.576e-01\n",
      "584 7.869e-01 9.381e-01 (saving)\n",
      "585 8.011e-01 9.556e-01\n",
      "586 7.809e-01 9.613e-01\n",
      "587 8.035e-01 9.511e-01\n",
      "588 7.846e-01 9.619e-01\n",
      "589 7.701e-01 9.516e-01\n",
      "590 7.810e-01 9.548e-01\n",
      "591 7.632e-01 9.500e-01\n",
      "592 7.933e-01 9.561e-01\n",
      "593 7.908e-01 9.394e-01\n",
      "594 7.775e-01 9.488e-01\n",
      "595 7.902e-01 9.672e-01\n",
      "596 7.877e-01 9.639e-01\n",
      "597 7.896e-01 9.536e-01\n",
      "598 7.764e-01 9.510e-01\n",
      "599 7.748e-01 9.589e-01\n",
      "600 7.886e-01 9.538e-01\n",
      "601 7.921e-01 9.667e-01\n",
      "602 8.038e-01 9.555e-01\n",
      "603 8.042e-01 9.440e-01\n",
      "604 7.791e-01 9.567e-01\n",
      "605 7.907e-01 9.472e-01\n",
      "606 7.881e-01 9.549e-01\n",
      "607 8.006e-01 9.591e-01\n",
      "608 7.858e-01 9.523e-01\n",
      "609 7.770e-01 9.394e-01\n",
      "610 7.999e-01 9.447e-01\n",
      "611 7.823e-01 9.475e-01\n",
      "612 7.793e-01 9.627e-01\n",
      "613 7.776e-01 9.541e-01\n",
      "614 7.865e-01 9.595e-01\n",
      "615 7.849e-01 9.449e-01\n",
      "616 7.800e-01 9.548e-01\n",
      "617 7.831e-01 9.578e-01\n",
      "618 7.800e-01 9.481e-01\n",
      "619 7.782e-01 9.577e-01\n",
      "620 7.910e-01 9.454e-01\n",
      "621 7.869e-01 9.496e-01\n",
      "622 7.822e-01 9.546e-01\n",
      "623 7.733e-01 9.542e-01\n",
      "624 7.764e-01 9.565e-01\n",
      "625 7.689e-01 9.502e-01\n",
      "626 7.686e-01 9.598e-01\n",
      "627 7.967e-01 9.569e-01\n",
      "628 7.823e-01 9.537e-01\n",
      "629 7.632e-01 9.504e-01\n",
      "630 7.808e-01 9.625e-01\n",
      "631 7.809e-01 9.536e-01\n",
      "632 7.840e-01 9.609e-01\n",
      "633 7.865e-01 9.612e-01\n",
      "634 7.693e-01 9.558e-01\n",
      "635 8.026e-01 9.495e-01\n",
      "636 7.780e-01 9.522e-01\n",
      "637 7.711e-01 9.685e-01\n",
      "638 7.695e-01 9.603e-01\n",
      "639 7.718e-01 9.562e-01\n",
      "640 7.865e-01 9.615e-01\n",
      "641 7.723e-01 9.573e-01\n",
      "642 7.820e-01 9.562e-01\n",
      "643 7.879e-01 9.545e-01\n",
      "644 7.815e-01 9.553e-01\n",
      "645 7.718e-01 9.605e-01\n",
      "646 7.763e-01 9.513e-01\n",
      "647 7.873e-01 9.548e-01\n",
      "648 7.539e-01 9.622e-01\n",
      "649 7.841e-01 9.506e-01\n",
      "650 7.725e-01 9.564e-01\n",
      "651 7.675e-01 9.557e-01\n",
      "652 7.724e-01 9.502e-01\n",
      "653 7.778e-01 9.545e-01\n",
      "654 7.584e-01 9.543e-01\n",
      "655 7.833e-01 9.659e-01\n",
      "656 7.771e-01 9.692e-01\n",
      "657 7.793e-01 9.642e-01\n",
      "658 7.497e-01 9.432e-01\n",
      "659 7.706e-01 9.340e-01 (saving)\n",
      "660 7.810e-01 9.417e-01\n",
      "661 7.599e-01 9.438e-01\n",
      "662 7.748e-01 9.399e-01\n",
      "663 7.754e-01 9.452e-01\n",
      "664 7.976e-01 9.502e-01\n",
      "665 7.859e-01 9.540e-01\n",
      "666 7.877e-01 9.420e-01\n",
      "667 7.850e-01 9.482e-01\n",
      "668 7.771e-01 9.462e-01\n",
      "669 7.752e-01 9.604e-01\n",
      "670 7.603e-01 9.558e-01\n",
      "671 7.628e-01 9.489e-01\n",
      "672 7.602e-01 9.590e-01\n",
      "673 7.671e-01 9.533e-01\n",
      "674 7.650e-01 9.661e-01\n",
      "675 7.736e-01 9.485e-01\n",
      "676 7.647e-01 9.629e-01\n",
      "677 7.690e-01 9.532e-01\n",
      "678 7.656e-01 9.409e-01\n",
      "679 7.788e-01 9.544e-01\n",
      "680 7.761e-01 9.528e-01\n",
      "681 7.498e-01 9.465e-01\n",
      "682 7.796e-01 9.490e-01\n",
      "683 7.544e-01 9.370e-01\n",
      "684 7.781e-01 9.450e-01\n",
      "685 7.723e-01 9.457e-01\n",
      "686 7.699e-01 9.539e-01\n",
      "687 7.928e-01 9.408e-01\n",
      "688 7.624e-01 9.446e-01\n",
      "689 7.520e-01 9.452e-01\n",
      "690 7.701e-01 9.453e-01\n",
      "691 7.646e-01 9.491e-01\n",
      "692 7.483e-01 9.517e-01\n",
      "693 7.950e-01 9.545e-01\n",
      "694 7.708e-01 9.478e-01\n",
      "695 7.792e-01 9.398e-01\n",
      "696 7.766e-01 9.563e-01\n",
      "697 7.560e-01 9.678e-01\n",
      "698 7.612e-01 9.709e-01\n",
      "699 7.618e-01 9.553e-01\n",
      "700 7.421e-01 9.550e-01\n",
      "701 7.679e-01 9.548e-01\n",
      "702 7.700e-01 9.567e-01\n",
      "703 7.562e-01 9.616e-01\n",
      "704 7.643e-01 9.541e-01\n",
      "705 7.557e-01 9.585e-01\n",
      "706 7.792e-01 9.602e-01\n",
      "707 7.734e-01 9.521e-01\n",
      "708 7.599e-01 9.464e-01\n",
      "709 7.748e-01 9.583e-01\n",
      "710 7.560e-01 9.529e-01\n",
      "711 7.640e-01 9.561e-01\n",
      "712 7.671e-01 9.587e-01\n",
      "713 7.575e-01 9.598e-01\n",
      "714 7.550e-01 9.596e-01\n",
      "715 7.465e-01 9.517e-01\n",
      "716 7.654e-01 9.527e-01\n",
      "717 7.729e-01 9.592e-01\n",
      "718 7.621e-01 9.477e-01\n",
      "719 7.722e-01 9.389e-01\n",
      "720 7.702e-01 9.370e-01\n",
      "721 7.739e-01 9.468e-01\n",
      "722 7.629e-01 9.434e-01\n",
      "723 7.760e-01 9.372e-01\n",
      "724 7.672e-01 9.503e-01\n",
      "725 7.606e-01 9.696e-01\n",
      "726 7.526e-01 9.531e-01\n",
      "727 7.567e-01 9.465e-01\n",
      "728 7.680e-01 9.446e-01\n",
      "729 7.594e-01 9.626e-01\n",
      "730 7.500e-01 9.556e-01\n",
      "731 7.426e-01 9.684e-01\n",
      "732 7.566e-01 9.552e-01\n",
      "733 7.653e-01 9.501e-01\n",
      "734 7.587e-01 9.586e-01\n",
      "735 7.449e-01 9.621e-01\n",
      "736 7.537e-01 9.647e-01\n",
      "737 7.628e-01 9.607e-01\n",
      "738 7.268e-01 9.679e-01\n",
      "739 7.784e-01 9.462e-01\n",
      "740 7.819e-01 9.475e-01\n",
      "741 7.572e-01 9.566e-01\n",
      "742 7.587e-01 9.676e-01\n",
      "743 7.562e-01 9.512e-01\n",
      "744 7.668e-01 9.536e-01\n",
      "745 7.642e-01 9.439e-01\n",
      "746 7.747e-01 9.524e-01\n",
      "747 7.654e-01 9.505e-01\n",
      "748 7.600e-01 9.574e-01\n",
      "749 7.410e-01 9.459e-01\n",
      "750 7.433e-01 9.438e-01\n",
      "751 7.514e-01 9.471e-01\n",
      "752 7.582e-01 9.584e-01\n",
      "753 7.470e-01 9.507e-01\n",
      "754 7.640e-01 9.557e-01\n",
      "755 7.672e-01 9.426e-01\n",
      "756 7.685e-01 9.431e-01\n",
      "757 7.720e-01 9.536e-01\n",
      "758 7.693e-01 9.498e-01\n",
      "759 7.535e-01 9.475e-01\n",
      "760 7.501e-01 9.557e-01\n",
      "761 7.442e-01 9.526e-01\n",
      "762 7.475e-01 9.516e-01\n",
      "763 7.396e-01 9.608e-01\n",
      "764 7.497e-01 9.404e-01\n",
      "765 7.499e-01 9.655e-01\n",
      "766 7.595e-01 9.577e-01\n",
      "767 7.546e-01 9.516e-01\n",
      "768 7.671e-01 9.393e-01\n",
      "769 7.629e-01 9.435e-01\n",
      "770 7.460e-01 9.583e-01\n",
      "771 7.719e-01 9.433e-01\n",
      "772 7.532e-01 9.390e-01\n",
      "773 7.579e-01 9.451e-01\n",
      "774 7.718e-01 9.483e-01\n",
      "775 7.603e-01 9.572e-01\n",
      "776 7.705e-01 9.480e-01\n",
      "777 7.598e-01 9.484e-01\n",
      "778 7.518e-01 9.620e-01\n",
      "779 7.345e-01 9.476e-01\n",
      "780 7.659e-01 9.487e-01\n",
      "781 7.712e-01 9.525e-01\n",
      "782 7.662e-01 9.468e-01\n",
      "783 7.590e-01 9.614e-01\n",
      "784 7.363e-01 9.592e-01\n",
      "785 7.598e-01 9.645e-01\n",
      "786 7.440e-01 9.551e-01\n",
      "787 7.464e-01 9.548e-01\n",
      "788 7.852e-01 9.622e-01\n",
      "789 7.615e-01 9.521e-01\n",
      "790 7.592e-01 9.653e-01\n",
      "791 7.609e-01 9.620e-01\n",
      "792 7.373e-01 9.678e-01\n",
      "793 7.410e-01 9.568e-01\n",
      "794 7.592e-01 9.559e-01\n",
      "795 7.339e-01 9.650e-01\n",
      "796 7.388e-01 9.513e-01\n",
      "797 7.549e-01 9.557e-01\n",
      "798 7.465e-01 9.652e-01\n",
      "799 7.348e-01 9.446e-01\n",
      "800 7.568e-01 9.516e-01\n",
      "801 7.525e-01 9.688e-01\n",
      "802 7.517e-01 9.502e-01\n",
      "803 7.499e-01 9.603e-01\n",
      "804 7.377e-01 9.446e-01\n",
      "805 7.401e-01 9.597e-01\n",
      "806 7.330e-01 9.455e-01\n",
      "807 7.368e-01 9.639e-01\n",
      "808 7.386e-01 9.497e-01\n",
      "809 7.352e-01 9.570e-01\n",
      "810 7.508e-01 9.611e-01\n",
      "811 7.452e-01 9.652e-01\n",
      "812 7.453e-01 9.695e-01\n",
      "813 7.449e-01 9.557e-01\n",
      "814 7.508e-01 9.464e-01\n",
      "815 7.356e-01 9.589e-01\n",
      "816 7.345e-01 9.461e-01\n",
      "817 7.422e-01 9.501e-01\n",
      "818 7.496e-01 9.675e-01\n",
      "819 7.540e-01 9.547e-01\n",
      "820 7.437e-01 9.584e-01\n",
      "821 7.572e-01 9.431e-01\n",
      "822 7.419e-01 9.533e-01\n",
      "823 7.498e-01 9.538e-01\n",
      "824 7.386e-01 9.434e-01\n",
      "825 7.348e-01 9.391e-01\n",
      "826 7.357e-01 9.591e-01\n",
      "827 7.378e-01 9.596e-01\n",
      "828 7.455e-01 9.618e-01\n",
      "829 7.423e-01 9.567e-01\n",
      "830 7.192e-01 9.592e-01\n",
      "831 7.347e-01 9.547e-01\n",
      "832 7.707e-01 9.498e-01\n",
      "833 7.476e-01 9.497e-01\n",
      "834 7.435e-01 9.558e-01\n",
      "835 7.305e-01 9.532e-01\n",
      "836 7.531e-01 9.564e-01\n",
      "837 7.423e-01 9.559e-01\n",
      "838 7.377e-01 9.595e-01\n",
      "839 7.727e-01 9.439e-01\n",
      "840 7.404e-01 9.569e-01\n",
      "841 7.396e-01 9.477e-01\n",
      "842 7.567e-01 9.470e-01\n",
      "843 7.501e-01 9.448e-01\n",
      "844 7.428e-01 9.604e-01\n",
      "845 7.400e-01 9.375e-01\n",
      "846 7.454e-01 9.626e-01\n",
      "847 7.164e-01 9.484e-01\n",
      "848 7.396e-01 9.502e-01\n",
      "849 7.550e-01 9.541e-01\n",
      "850 7.354e-01 9.574e-01\n",
      "851 7.450e-01 9.418e-01\n",
      "852 7.476e-01 9.607e-01\n",
      "853 7.408e-01 9.576e-01\n",
      "854 7.375e-01 9.534e-01\n",
      "855 7.345e-01 9.610e-01\n",
      "856 7.463e-01 9.519e-01\n",
      "857 7.430e-01 9.454e-01\n",
      "858 7.442e-01 9.623e-01\n",
      "859 7.337e-01 9.427e-01\n",
      "860 7.451e-01 9.446e-01\n",
      "861 7.369e-01 9.412e-01\n",
      "862 7.386e-01 9.628e-01\n",
      "863 7.515e-01 9.495e-01\n",
      "864 7.214e-01 9.392e-01\n",
      "865 7.339e-01 9.602e-01\n",
      "866 7.339e-01 9.498e-01\n",
      "867 7.565e-01 9.672e-01\n",
      "868 7.635e-01 9.569e-01\n",
      "869 7.155e-01 9.513e-01\n",
      "870 7.229e-01 9.515e-01\n",
      "871 7.387e-01 9.596e-01\n",
      "872 7.419e-01 9.550e-01\n",
      "873 7.369e-01 9.456e-01\n",
      "874 7.322e-01 9.507e-01\n",
      "875 7.388e-01 9.548e-01\n",
      "876 7.309e-01 9.659e-01\n",
      "877 7.354e-01 9.527e-01\n",
      "878 7.437e-01 9.498e-01\n",
      "879 7.254e-01 9.535e-01\n",
      "880 7.440e-01 9.762e-01\n",
      "881 7.368e-01 9.520e-01\n",
      "882 7.314e-01 9.577e-01\n",
      "883 7.337e-01 9.432e-01\n",
      "884 7.571e-01 9.572e-01\n",
      "885 7.342e-01 9.594e-01\n",
      "886 7.228e-01 9.455e-01\n",
      "887 7.334e-01 9.568e-01\n",
      "888 7.453e-01 9.431e-01\n",
      "889 7.244e-01 9.403e-01\n",
      "890 7.323e-01 9.467e-01\n",
      "891 7.295e-01 9.509e-01\n",
      "892 7.273e-01 9.478e-01\n",
      "893 7.297e-01 9.444e-01\n",
      "894 7.347e-01 9.483e-01\n",
      "895 7.343e-01 9.429e-01\n",
      "896 7.283e-01 9.370e-01\n",
      "897 7.235e-01 9.486e-01\n",
      "898 7.429e-01 9.577e-01\n",
      "899 7.333e-01 9.468e-01\n",
      "900 7.325e-01 9.541e-01\n",
      "901 7.208e-01 9.650e-01\n",
      "902 7.394e-01 9.486e-01\n",
      "903 7.540e-01 9.409e-01\n",
      "904 7.320e-01 9.461e-01\n",
      "905 7.407e-01 9.398e-01\n",
      "906 7.420e-01 9.555e-01\n",
      "907 7.331e-01 9.588e-01\n",
      "908 7.251e-01 9.546e-01\n",
      "909 7.297e-01 9.489e-01\n",
      "910 7.325e-01 9.566e-01\n",
      "911 7.408e-01 9.766e-01\n",
      "912 7.489e-01 9.403e-01\n",
      "913 7.397e-01 9.651e-01\n",
      "914 7.415e-01 9.552e-01\n",
      "915 7.249e-01 9.539e-01\n",
      "916 7.285e-01 9.691e-01\n",
      "917 7.388e-01 9.747e-01\n",
      "918 7.482e-01 9.622e-01\n",
      "919 7.465e-01 9.515e-01\n",
      "920 7.283e-01 9.578e-01\n",
      "921 7.138e-01 9.480e-01\n",
      "922 7.305e-01 9.418e-01\n",
      "923 7.259e-01 9.470e-01\n",
      "924 7.302e-01 9.508e-01\n",
      "925 7.324e-01 9.578e-01\n",
      "926 7.515e-01 9.590e-01\n",
      "927 7.474e-01 9.436e-01\n",
      "928 7.486e-01 9.451e-01\n",
      "929 7.327e-01 9.468e-01\n",
      "930 7.290e-01 9.426e-01\n",
      "931 7.464e-01 9.563e-01\n",
      "932 7.458e-01 9.628e-01\n",
      "933 7.330e-01 9.489e-01\n",
      "934 7.254e-01 9.565e-01\n",
      "935 7.335e-01 9.566e-01\n",
      "936 7.389e-01 9.652e-01\n",
      "937 7.340e-01 9.514e-01\n",
      "938 7.344e-01 9.558e-01\n",
      "939 7.324e-01 9.512e-01\n",
      "940 7.261e-01 9.525e-01\n",
      "941 7.110e-01 9.525e-01\n",
      "942 7.112e-01 9.565e-01\n",
      "943 7.270e-01 9.543e-01\n",
      "944 7.266e-01 9.638e-01\n",
      "945 7.267e-01 9.677e-01\n",
      "946 7.271e-01 9.582e-01\n",
      "947 7.252e-01 9.583e-01\n",
      "948 7.386e-01 9.422e-01\n",
      "949 7.347e-01 9.640e-01\n",
      "950 7.255e-01 9.613e-01\n",
      "951 7.353e-01 9.812e-01\n",
      "952 7.208e-01 9.732e-01\n",
      "953 7.420e-01 9.709e-01\n",
      "954 7.223e-01 9.679e-01\n",
      "955 6.962e-01 9.630e-01\n",
      "956 7.268e-01 9.570e-01\n",
      "957 7.331e-01 9.482e-01\n",
      "958 7.099e-01 9.497e-01\n",
      "959 7.009e-01 9.573e-01\n",
      "960 7.189e-01 9.497e-01\n",
      "961 7.091e-01 9.473e-01\n",
      "962 7.401e-01 9.431e-01\n",
      "963 7.246e-01 9.373e-01\n",
      "964 7.127e-01 9.377e-01\n",
      "965 7.258e-01 9.582e-01\n",
      "966 7.293e-01 9.436e-01\n",
      "967 7.454e-01 9.572e-01\n",
      "968 7.111e-01 9.688e-01\n",
      "969 7.200e-01 9.602e-01\n",
      "970 7.150e-01 9.499e-01\n",
      "971 7.233e-01 9.596e-01\n",
      "972 7.162e-01 9.415e-01\n",
      "973 7.302e-01 9.536e-01\n",
      "974 7.152e-01 9.646e-01\n",
      "975 7.315e-01 9.500e-01\n",
      "976 7.301e-01 9.588e-01\n",
      "977 7.309e-01 9.797e-01\n",
      "978 7.130e-01 9.597e-01\n",
      "979 7.040e-01 9.709e-01\n",
      "980 7.359e-01 9.648e-01\n",
      "981 7.286e-01 9.594e-01\n",
      "982 7.476e-01 9.495e-01\n",
      "983 7.417e-01 9.486e-01\n",
      "984 7.061e-01 9.485e-01\n",
      "985 7.280e-01 9.692e-01\n",
      "986 7.373e-01 9.633e-01\n",
      "987 7.202e-01 9.582e-01\n",
      "988 7.205e-01 9.691e-01\n",
      "989 7.019e-01 9.615e-01\n",
      "990 7.186e-01 9.649e-01\n",
      "991 7.088e-01 9.660e-01\n",
      "992 7.282e-01 9.536e-01\n",
      "993 7.067e-01 9.733e-01\n",
      "994 7.168e-01 9.511e-01\n",
      "995 7.203e-01 9.401e-01\n",
      "996 7.040e-01 9.556e-01\n",
      "997 7.195e-01 9.526e-01\n",
      "998 7.219e-01 9.561e-01\n",
      "999 7.274e-01 9.589e-01\n",
      "Time take (m): 4.1530\n"
     ]
    }
   ],
   "source": [
    "fout   = 'test_optuna3.txt'\n",
    "fmodel = 'test_optuna3.pt'\n",
    "#casts parameters/buffers to specified gpu\n",
    "model.to(device=device)\n",
    "#get num elements in each network parameters and sum them\n",
    "network_total_params = sum(p.numel() for p in model.parameters())\n",
    "print('total number of parameters in the model = %d'%network_total_params)\n",
    "\n",
    "# define optimizer and scheduler\n",
    "optimizer = torch.optim.AdamW(model.parameters(), lr=lr_3, betas=(0.5, 0.999), \n",
    "                             weight_decay=wd_3)\t\n",
    "\n",
    "\n",
    "# load best-model, if it exists\n",
    "'''\n",
    "if os.path.exists(fmodel):  \n",
    "    print('Loading model...')\n",
    "    model.load_state_dict(torch.load(fmodel))\n",
    "# get validation loss\n",
    "print('Computing initial validation loss')\n",
    "model.eval()\n",
    "min_valid_loss, points = 0.0, 0\n",
    "for x, y in valid_loader:\n",
    "    with torch.no_grad():\n",
    "        x    = x.to(device=device)\n",
    "        y    = y.to(device=device)\n",
    "        y_NN = model(x)\n",
    "        min_valid_loss += (criterion(y_NN, y).item())*x.shape[0]\n",
    "        points += x.shape[0]\n",
    "min_valid_loss /= points\n",
    "print('Initial valid loss = %.3e'%min_valid_loss)\n",
    "'''\n",
    "# see if results for this model are available (if you're continuing training on a model)\n",
    "'''\n",
    "if os.path.exists(fout):  \n",
    "    dumb = np.loadtxt(fout, skiprows = 11, unpack=False)\n",
    "    if dumb.size == 0:\n",
    "        offset = 0\n",
    "    else: offset = int(dumb[:,0][-1]+1)\n",
    "else:   offset = 0\n",
    "'''\n",
    "\n",
    "# do a loop over all epochs\n",
    "start = time.time()\n",
    "min_valid_loss = 1000\n",
    "for epoch in range(epochs):\n",
    "    # do training\n",
    "    train_loss, points = 0.0, 0\n",
    "    model.train()\n",
    "    for x, y in train_loader:\n",
    "        x = x.to(device)\n",
    "        y = y.to(device)\n",
    "        y_NN = model(x)\n",
    "        #y = nn.Softmax(y)\n",
    "        #y_NN = nn.Softmax(y_NN)\n",
    "        loss = criterion(y_NN, y)\n",
    "        train_loss += (loss.item())*x.shape[0]\n",
    "        points     += x.shape[0]\n",
    "        optimizer.zero_grad()\n",
    "        loss.backward()\n",
    "        optimizer.step()\n",
    "    train_loss /= points\n",
    "\n",
    "    # do testing\n",
    "    test_loss, points = 0.0, 0\n",
    "    model.eval()\n",
    "    for x, y in test_loader:\n",
    "        with torch.no_grad():\n",
    "            x    = x.to(device)\n",
    "            y    = y.to(device)\n",
    "            #y = nn.Softmax(y)\n",
    "            y_NN = model(x)\n",
    "            #y_NN = nn.Softmax(y_NN)\n",
    "            test_loss += (criterion(y_NN, y).item())*x.shape[0]\n",
    "            points    += x.shape[0]\n",
    "    test_loss /= points\n",
    "    \n",
    "    # save model if it is better\n",
    "    if test_loss<min_valid_loss:\n",
    "        torch.save(model.state_dict(), fmodel)\n",
    "        min_valid_loss = test_loss\n",
    "        print('%03d %.3e %.3e (saving)'%(epoch, train_loss, test_loss))\n",
    "    else:\n",
    "        print('%03d %.3e %.3e'%(epoch, train_loss, test_loss))\n",
    "    \n",
    "    # save losses to file\n",
    "    f = open(fout, 'a')\n",
    "    f.write('%d %.5e %.5e\\n'%(epoch, train_loss, test_loss))\n",
    "    f.close()\n",
    "    \n",
    "stop = time.time()\n",
    "print('Time take (m):', \"{:.4f}\".format((stop-start)/60.0))"
   ]
  },
  {
   "cell_type": "code",
   "execution_count": 82,
   "id": "a76b043a-7ceb-48ea-b861-8664ec6222f1",
   "metadata": {},
   "outputs": [],
   "source": [
    "losses_1 = np.loadtxt('test_optuna1.txt', delimiter = ' ')\n",
    "train_losses_1 = losses_1[:,1]\n",
    "test_losses_1 = losses_1[:, 2]\n",
    "\n",
    "losses_2 = np.loadtxt('test_optuna2.txt', delimiter = ' ')\n",
    "train_losses_2 = losses_2[:,1]\n",
    "test_losses_2 = losses_2[:, 2]\n",
    "\n",
    "losses_3 = np.loadtxt('test_optuna3.txt', delimiter = ' ')\n",
    "train_losses_3 = losses_3[:,1]\n",
    "test_losses_3 = losses_3[:, 2]\n",
    "\n",
    "# losses_non = np.loadtxt('test_non.txt', delimiter = ' ')\n",
    "# train_losses_non = losses_non[:,1]\n",
    "# test_losses_non = losses_non[:, 2]"
   ]
  },
  {
   "cell_type": "code",
   "execution_count": 83,
   "id": "04d83923-211a-4280-8c35-e105287f6718",
   "metadata": {},
   "outputs": [
    {
     "data": {
      "text/plain": [
       "Text(0, 0.5, 'Loss')"
      ]
     },
     "execution_count": 83,
     "metadata": {},
     "output_type": "execute_result"
    },
    {
     "data": {
      "image/png": "[encoded data removed]",
      "text/plain": [
       "<Figure size 640x480 with 1 Axes>"
      ]
     },
     "metadata": {},
     "output_type": "display_data"
    }
   ],
   "source": [
    "import matplotlib.pyplot as plt\n",
    "plt.plot(train_losses_1, label = 'train Optuna 1')\n",
    "plt.plot(test_losses_1, label = 'test Optuna 1')\n",
    "plt.plot(train_losses_2, label = 'train Optuna 2')\n",
    "plt.plot(test_losses_2, label = 'test Optuna 2')\n",
    "plt.plot(train_losses_3, label = 'train Optuna 3')\n",
    "plt.plot(test_losses_3, label = 'test Optuna 3')\n",
    "# plt.plot(train_losses_non, label = 'train no Optuna')\n",
    "# plt.plot(test_losses_non, label = 'test no Optuna')\n",
    "plt.xscale('log')\n",
    "#plt.xlim(100,1000)\n",
    "plt.legend()\n",
    "plt.title(\"RP\")\n",
    "plt.xlabel(\"Epoch\")\n",
    "plt.ylabel(\"Loss\")"
   ]
  },
  {
   "cell_type": "markdown",
   "id": "50ca31fd-3ba6-4b21-9080-9380c6f81fac",
   "metadata": {},
   "source": [
    "## Optuna"
   ]
  },
  {
   "cell_type": "code",
   "execution_count": 32,
   "id": "4cf10827-972a-4917-a740-2fb99ee2037e",
   "metadata": {},
   "outputs": [],
   "source": [
    "def dynamic_model(trial, input_size, output_size, max_layers=3, max_neurons_layers=500):\n",
    "    # define the tuple containing the different layers\n",
    "    layers = []\n",
    "    # get the number of hidden layers\n",
    "    n_layers = trial.suggest_int(\"n_layers\", 1, max_layers)\n",
    "    # get the hidden layers\n",
    "    in_features = input_size\n",
    "    for i in range(n_layers):\n",
    "        out_features = trial.suggest_int(\"n_units_l{}\".format(i), 4, max_neurons_layers)\n",
    "        layers.append(nn.Linear(in_features, out_features))\n",
    "        layers.append(nn.LeakyReLU(0.2))\n",
    "        p = trial.suggest_float(\"dropout_l{}\".format(i), 0.2, 0.8)\n",
    "        layers.append(nn.Dropout(p))\n",
    "        in_features = out_features\n",
    "    # get the last layer\n",
    "    layers.append(nn.Linear(out_features, output_size))\n",
    "    # return the model\n",
    "    return nn.Sequential(*layers)"
   ]
  },
  {
   "cell_type": "code",
   "execution_count": 33,
   "id": "7dafbebd-2e05-4f93-ab95-be1b243d9a09",
   "metadata": {},
   "outputs": [],
   "source": [
    "import numpy as np\n",
    "import sys, os, time\n",
    "import torch\n",
    "import torch.nn as nn\n",
    "import optuna\n",
    "import h5py"
   ]
  },
  {
   "cell_type": "code",
   "execution_count": 34,
   "id": "b0a4cc01-6608-4995-b759-8653d3c648fd",
   "metadata": {},
   "outputs": [],
   "source": [
    "class Objective(object):\n",
    "    def __init__(self, input_size, output_size, max_layers, max_neurons_layers, device,\n",
    "                 epochs, seed, batch_size):\n",
    "\n",
    "        self.input_size         = input_size\n",
    "        self.output_size        = output_size\n",
    "        self.max_layers         = max_layers\n",
    "        self.max_neurons_layers = max_neurons_layers\n",
    "        self.device             = device\n",
    "        self.epochs             = epochs\n",
    "        self.seed               = seed\n",
    "        self.batch_size         = batch_size\n",
    "\n",
    "    def __call__(self, trial):\n",
    "\n",
    "        # name of the files that will contain the losses and model weights\n",
    "        f1 = 'losses_%s'%prefix\n",
    "        f2 = 'models_%s'%prefix\n",
    "        if not(os.path.exists(f1)):  os.system('mkdir %s'%f1)\n",
    "        if not(os.path.exists(f2)):  os.system('mkdir %s'%f2)\n",
    "\n",
    "        fout   = 'losses_%s/loss_%d.txt'%(prefix, trial.number)\n",
    "        fmodel = 'models_%s/model_%d.pt'%(prefix, trial.number)\n",
    "        \n",
    "        dataname = 'fesc_test' # name of your dataset, for the loss file header\n",
    "        \n",
    "        # write properties & headers in case you need to refer in the future and you've changed the main.py file\n",
    "        f = open(fout, 'w')\n",
    "        f.write('training dataset: {}\\n'.format(dataname))\n",
    "        f.write('seed = {}\\numFeatures = {}\\nFeature List: {}\\nfluxSize = {}\\nbatch_size = {}\\nepochs     = {}\\n'.format(seed, input_size, features, output_size, batch_size, epochs))\n",
    "        f.write('0 epoch  1 train loss  2 test loss\\n')\n",
    "        f.close()\n",
    "\n",
    "        # generate the architecture\n",
    "        model = dynamic_model(trial, self.input_size, self.output_size, \n",
    "                            self.max_layers, self.max_neurons_layers).to(self.device)\n",
    "\n",
    "        # get the weight decay and learning rate values\n",
    "        ## adjust boundary values as needed\n",
    "        lr = trial.suggest_float(\"lr\", 1e-5, 1e-2, log=True)\n",
    "        wd = trial.suggest_float(\"wd\", 1e-8, 1e-2,  log=True)\n",
    "\n",
    "        # define the optimizer\n",
    "        optimizer = torch.optim.AdamW(model.parameters(), lr=lr, betas=(0.5, 0.999), \n",
    "                                      weight_decay=wd)\n",
    "\n",
    "        # define loss function\n",
    "        criterion = nn.CrossEntropyLoss() \n",
    "\n",
    "        # get the data\n",
    "        train_loader = create_dataset('train', self.seed, fin, self.batch_size, True)\n",
    "        valid_loader = create_dataset('valid', self.seed, fin, self.batch_size, False)\n",
    "        test_loader  = create_dataset('test',  self.seed, fin, self.batch_size, False)\n",
    "\n",
    "        # train/validate model\n",
    "        min_valid = 1e40\n",
    "        for epoch in range(self.epochs):\n",
    "\n",
    "            # training\n",
    "            train_loss, points = 0.0, 0\n",
    "            model.train()\n",
    "            for x, y in train_loader:\n",
    "                x, y = x.to(self.device), y.to(self.device)\n",
    "                y_NN = model(x)\n",
    "                \n",
    "                loss = criterion(y_NN, y)\n",
    "                train_loss += (loss.item())*x.shape[0]\n",
    "                points     += x.shape[0]\n",
    "                optimizer.zero_grad()\n",
    "                loss.backward()\n",
    "                optimizer.step()\n",
    "            train_loss /= points\n",
    "            '''\n",
    "            # validation\n",
    "            valid_loss, points = 0.0, 0\n",
    "            model.eval()\n",
    "            with torch.no_grad():\n",
    "                for x, y in valid_loader:\n",
    "                    x, y = x.to(self.device), y.to(self.device)\n",
    "                    y_NN = model(x)\n",
    "                    valid_loss += (criterion(y_NN, y).item())*x.shape[0]\n",
    "                    points     += x.shape[0]\n",
    "            valid_loss /= points\n",
    "            '''\n",
    "            # do testing\n",
    "            test_loss, points = 0.0, 0\n",
    "            model.eval()\n",
    "            for x, y in test_loader:\n",
    "                with torch.no_grad():\n",
    "                    x    = x.to(device)\n",
    "                    y    = y.to(device)\n",
    "                    y_NN = model(x)\n",
    "                    test_loss += (criterion(y_NN, y).item())*x.shape[0]\n",
    "                    points    += x.shape[0]\n",
    "            test_loss /= points\n",
    "            \n",
    "            #save this model if it's better\n",
    "            if test_loss<min_valid:  \n",
    "                min_valid = test_loss\n",
    "                torch.save(model.state_dict(), fmodel)\n",
    "            f = open(fout, 'a')\n",
    "            f.write('%d %.5e %.5e\\n'%(epoch, train_loss, test_loss))\n",
    "            f.close()\n",
    "\n",
    "            # Handle pruning based on the intermediate value\n",
    "            # comment out these lines if using pruning\n",
    "            #trial.report(min_valid, epoch)\n",
    "            #if trial.should_prune():  raise optuna.exceptions.TrialPruned()\n",
    "\n",
    "        return min_valid\n"
   ]
  },
  {
   "cell_type": "code",
   "execution_count": 36,
   "id": "1aed847e-baec-457a-9d49-1bded2e8ec99",
   "metadata": {},
   "outputs": [],
   "source": [
    "##################################### INPUT ##########################################\n",
    "# data parameters\n",
    "fin      = 'catalog.h5' # file containing your global properties\n",
    "features = 'SFRs, Mstars, masses, redshifts, fgases' # writing the order of input data as per data.py. Modify as needed\n",
    "f_features_norm = None\n",
    "f_labels  = 'fesc_test.txt' # file containing output SEDs\n",
    "seed      = 5\n",
    "\n",
    "# optuna architecture parameters\n",
    "input_size         = 5 # number of input global properties\n",
    "output_size        = 4 # size of SED/wavelength array\n",
    "max_layers         = 5 # max number of hidden layers to test out\n",
    "max_neurons_layers = 500 # max number of nodes per hidden layer to test out\n",
    "\n",
    "# training parameters\n",
    "batch_size = 256\n",
    "epochs     = 1000\n",
    "\n",
    "# optuna parameters -- modify as needed\n",
    "prefix    = 'inp{}out{}maxl{}maxn{}bs{}ep{}'.format(input_size, output_size, max_layers, max_neurons_layers, batch_size, epochs)\n",
    "study_name       = 'fesc' \n",
    "n_trials         = 50 # set to None for infinite\n",
    "storage          = 'sqlite:///fesc_%s.db'%prefix \n",
    "n_jobs           = 1\n",
    "n_startup_trials = 30 # random sample the hyperparameter space before running the model sampler\n",
    "#########################\n"
   ]
  },
  {
   "cell_type": "code",
   "execution_count": 37,
   "id": "8389d5db-1961-478b-869b-ca35c11795b4",
   "metadata": {
    "scrolled": true
   },
   "outputs": [
    {
     "name": "stderr",
     "output_type": "stream",
     "text": [
      "\u001b[32m[I 2023-06-01 14:39:35,058]\u001b[0m A new study created in RDB with name: fesc\u001b[0m\n"
     ]
    },
    {
     "name": "stdout",
     "output_type": "stream",
     "text": [
      "labels.shape (2139,)\n",
      "labels [1 1 1 ... 0 0 0]\n",
      "size of input and output torch.Size([1497, 5]) torch.Size([1497])\n",
      "labels.shape (2139,)\n",
      "labels [1 1 1 ... 0 0 0]\n",
      "size of input and output torch.Size([320, 5]) torch.Size([320])\n",
      "labels.shape (2139,)\n",
      "labels [1 1 1 ... 0 0 0]\n",
      "size of input and output torch.Size([320, 5]) torch.Size([320])\n"
     ]
    },
    {
     "name": "stderr",
     "output_type": "stream",
     "text": [
      "\u001b[32m[I 2023-06-01 14:41:30,231]\u001b[0m Trial 0 finished with value: 0.9908517956733703 and parameters: {'n_layers': 2, 'n_units_l0': 321, 'dropout_l0': 0.6054446903846836, 'n_units_l1': 151, 'dropout_l1': 0.7910815194363812, 'lr': 0.00018914244384543472, 'wd': 1.4799737582026373e-06}. Best is trial 0 with value: 0.9908517956733703.\u001b[0m\n"
     ]
    },
    {
     "name": "stdout",
     "output_type": "stream",
     "text": [
      "labels.shape (2139,)\n",
      "labels [1 1 1 ... 0 0 0]\n",
      "size of input and output torch.Size([1497, 5]) torch.Size([1497])\n",
      "labels.shape (2139,)\n",
      "labels [1 1 1 ... 0 0 0]\n",
      "size of input and output torch.Size([320, 5]) torch.Size([320])\n",
      "labels.shape (2139,)\n",
      "labels [1 1 1 ... 0 0 0]\n",
      "size of input and output torch.Size([320, 5]) torch.Size([320])\n"
     ]
    },
    {
     "name": "stderr",
     "output_type": "stream",
     "text": [
      "\u001b[32m[I 2023-06-01 14:45:52,352]\u001b[0m Trial 1 finished with value: 0.9938820123672485 and parameters: {'n_layers': 2, 'n_units_l0': 376, 'dropout_l0': 0.4866170464257742, 'n_units_l1': 454, 'dropout_l1': 0.5092472463802711, 'lr': 4.210373696716956e-05, 'wd': 0.0031827687153190985}. Best is trial 0 with value: 0.9908517956733703.\u001b[0m\n"
     ]
    },
    {
     "name": "stdout",
     "output_type": "stream",
     "text": [
      "labels.shape (2139,)\n",
      "labels [1 1 1 ... 0 0 0]\n",
      "size of input and output torch.Size([1497, 5]) torch.Size([1497])\n",
      "labels.shape (2139,)\n",
      "labels [1 1 1 ... 0 0 0]\n",
      "size of input and output torch.Size([320, 5]) torch.Size([320])\n",
      "labels.shape (2139,)\n",
      "labels [1 1 1 ... 0 0 0]\n",
      "size of input and output torch.Size([320, 5]) torch.Size([320])\n"
     ]
    },
    {
     "name": "stderr",
     "output_type": "stream",
     "text": [
      "\u001b[32m[I 2023-06-01 14:48:29,392]\u001b[0m Trial 2 finished with value: 0.9671885371208191 and parameters: {'n_layers': 1, 'n_units_l0': 358, 'dropout_l0': 0.3268890374523211, 'lr': 0.0011000853711779061, 'wd': 0.004479202454349285}. Best is trial 2 with value: 0.9671885371208191.\u001b[0m\n"
     ]
    },
    {
     "name": "stdout",
     "output_type": "stream",
     "text": [
      "labels.shape (2139,)\n",
      "labels [1 1 1 ... 0 0 0]\n",
      "size of input and output torch.Size([1497, 5]) torch.Size([1497])\n",
      "labels.shape (2139,)\n",
      "labels [1 1 1 ... 0 0 0]\n",
      "size of input and output torch.Size([320, 5]) torch.Size([320])\n",
      "labels.shape (2139,)\n",
      "labels [1 1 1 ... 0 0 0]\n",
      "size of input and output torch.Size([320, 5]) torch.Size([320])\n"
     ]
    },
    {
     "name": "stderr",
     "output_type": "stream",
     "text": [
      "\u001b[32m[I 2023-06-01 14:52:39,306]\u001b[0m Trial 3 finished with value: 0.9711811304092407 and parameters: {'n_layers': 5, 'n_units_l0': 32, 'dropout_l0': 0.25488647228443306, 'n_units_l1': 138, 'dropout_l1': 0.3600988902434257, 'n_units_l2': 381, 'dropout_l2': 0.37235594626030055, 'n_units_l3': 360, 'dropout_l3': 0.5500254643461839, 'n_units_l4': 439, 'dropout_l4': 0.3432516719165424, 'lr': 0.00012662664395466568, 'wd': 1.4792525414331795e-05}. Best is trial 2 with value: 0.9671885371208191.\u001b[0m\n"
     ]
    },
    {
     "name": "stdout",
     "output_type": "stream",
     "text": [
      "labels.shape (2139,)\n",
      "labels [1 1 1 ... 0 0 0]\n",
      "size of input and output torch.Size([1497, 5]) torch.Size([1497])\n",
      "labels.shape (2139,)\n",
      "labels [1 1 1 ... 0 0 0]\n",
      "size of input and output torch.Size([320, 5]) torch.Size([320])\n",
      "labels.shape (2139,)\n",
      "labels [1 1 1 ... 0 0 0]\n",
      "size of input and output torch.Size([320, 5]) torch.Size([320])\n"
     ]
    },
    {
     "name": "stderr",
     "output_type": "stream",
     "text": [
      "\u001b[32m[I 2023-06-01 14:55:58,638]\u001b[0m Trial 4 finished with value: 1.0175493240356446 and parameters: {'n_layers': 5, 'n_units_l0': 69, 'dropout_l0': 0.6842740252223485, 'n_units_l1': 63, 'dropout_l1': 0.796896056671236, 'n_units_l2': 145, 'dropout_l2': 0.5991538144865378, 'n_units_l3': 255, 'dropout_l3': 0.26541545314196013, 'n_units_l4': 221, 'dropout_l4': 0.2615919462929631, 'lr': 0.00032572000935918453, 'wd': 6.408604850971561e-08}. Best is trial 2 with value: 0.9671885371208191.\u001b[0m\n"
     ]
    },
    {
     "name": "stdout",
     "output_type": "stream",
     "text": [
      "labels.shape (2139,)\n",
      "labels [1 1 1 ... 0 0 0]\n",
      "size of input and output torch.Size([1497, 5]) torch.Size([1497])\n",
      "labels.shape (2139,)\n",
      "labels [1 1 1 ... 0 0 0]\n",
      "size of input and output torch.Size([320, 5]) torch.Size([320])\n",
      "labels.shape (2139,)\n",
      "labels [1 1 1 ... 0 0 0]\n",
      "size of input and output torch.Size([320, 5]) torch.Size([320])\n"
     ]
    },
    {
     "name": "stderr",
     "output_type": "stream",
     "text": [
      "\u001b[32m[I 2023-06-01 15:00:15,157]\u001b[0m Trial 5 finished with value: 0.9678496360778809 and parameters: {'n_layers': 4, 'n_units_l0': 347, 'dropout_l0': 0.2366460359500553, 'n_units_l1': 223, 'dropout_l1': 0.24990948951944822, 'n_units_l2': 361, 'dropout_l2': 0.6454936763463625, 'n_units_l3': 70, 'dropout_l3': 0.5248140575276128, 'lr': 3.290673174193472e-05, 'wd': 1.0183560778723122e-05}. Best is trial 2 with value: 0.9671885371208191.\u001b[0m\n"
     ]
    },
    {
     "name": "stdout",
     "output_type": "stream",
     "text": [
      "labels.shape (2139,)\n",
      "labels [1 1 1 ... 0 0 0]\n",
      "size of input and output torch.Size([1497, 5]) torch.Size([1497])\n",
      "labels.shape (2139,)\n",
      "labels [1 1 1 ... 0 0 0]\n",
      "size of input and output torch.Size([320, 5]) torch.Size([320])\n",
      "labels.shape (2139,)\n",
      "labels [1 1 1 ... 0 0 0]\n",
      "size of input and output torch.Size([320, 5]) torch.Size([320])\n"
     ]
    },
    {
     "name": "stderr",
     "output_type": "stream",
     "text": [
      "\u001b[32m[I 2023-06-01 15:03:51,345]\u001b[0m Trial 6 finished with value: 0.993437671661377 and parameters: {'n_layers': 2, 'n_units_l0': 452, 'dropout_l0': 0.5016948258297205, 'n_units_l1': 235, 'dropout_l1': 0.6147350379804917, 'lr': 4.997131554928532e-05, 'wd': 1.5715672831180507e-06}. Best is trial 2 with value: 0.9671885371208191.\u001b[0m\n"
     ]
    },
    {
     "name": "stdout",
     "output_type": "stream",
     "text": [
      "labels.shape (2139,)\n",
      "labels [1 1 1 ... 0 0 0]\n",
      "size of input and output torch.Size([1497, 5]) torch.Size([1497])\n",
      "labels.shape (2139,)\n",
      "labels [1 1 1 ... 0 0 0]\n",
      "size of input and output torch.Size([320, 5]) torch.Size([320])\n",
      "labels.shape (2139,)\n",
      "labels [1 1 1 ... 0 0 0]\n",
      "size of input and output torch.Size([320, 5]) torch.Size([320])\n"
     ]
    },
    {
     "name": "stderr",
     "output_type": "stream",
     "text": [
      "\u001b[32m[I 2023-06-01 15:09:13,540]\u001b[0m Trial 7 finished with value: 0.9403188467025757 and parameters: {'n_layers': 4, 'n_units_l0': 445, 'dropout_l0': 0.6783256627864593, 'n_units_l1': 110, 'dropout_l1': 0.7212680772672682, 'n_units_l2': 389, 'dropout_l2': 0.21223020484710314, 'n_units_l3': 106, 'dropout_l3': 0.635258494903447, 'lr': 0.002884682518020777, 'wd': 7.388598768076409e-07}. Best is trial 7 with value: 0.9403188467025757.\u001b[0m\n"
     ]
    },
    {
     "name": "stdout",
     "output_type": "stream",
     "text": [
      "labels.shape (2139,)\n",
      "labels [1 1 1 ... 0 0 0]\n",
      "size of input and output torch.Size([1497, 5]) torch.Size([1497])\n",
      "labels.shape (2139,)\n",
      "labels [1 1 1 ... 0 0 0]\n",
      "size of input and output torch.Size([320, 5]) torch.Size([320])\n",
      "labels.shape (2139,)\n",
      "labels [1 1 1 ... 0 0 0]\n",
      "size of input and output torch.Size([320, 5]) torch.Size([320])\n"
     ]
    },
    {
     "name": "stderr",
     "output_type": "stream",
     "text": [
      "\u001b[32m[I 2023-06-01 15:10:54,007]\u001b[0m Trial 8 finished with value: 1.067568016052246 and parameters: {'n_layers': 1, 'n_units_l0': 108, 'dropout_l0': 0.719937269694332, 'lr': 4.0508844971279915e-05, 'wd': 0.008556343226110284}. Best is trial 7 with value: 0.9403188467025757.\u001b[0m\n"
     ]
    },
    {
     "name": "stdout",
     "output_type": "stream",
     "text": [
      "labels.shape (2139,)\n",
      "labels [1 1 1 ... 0 0 0]\n",
      "size of input and output torch.Size([1497, 5]) torch.Size([1497])\n",
      "labels.shape (2139,)\n",
      "labels [1 1 1 ... 0 0 0]\n",
      "size of input and output torch.Size([320, 5]) torch.Size([320])\n",
      "labels.shape (2139,)\n",
      "labels [1 1 1 ... 0 0 0]\n",
      "size of input and output torch.Size([320, 5]) torch.Size([320])\n"
     ]
    },
    {
     "name": "stderr",
     "output_type": "stream",
     "text": [
      "\u001b[32m[I 2023-06-01 15:12:21,235]\u001b[0m Trial 9 finished with value: 1.0187645196914672 and parameters: {'n_layers': 2, 'n_units_l0': 131, 'dropout_l0': 0.3174119426314261, 'n_units_l1': 212, 'dropout_l1': 0.6641933190795741, 'lr': 2.5773242716255906e-05, 'wd': 6.844729507602362e-05}. Best is trial 7 with value: 0.9403188467025757.\u001b[0m\n"
     ]
    },
    {
     "name": "stdout",
     "output_type": "stream",
     "text": [
      "labels.shape (2139,)\n",
      "labels [1 1 1 ... 0 0 0]\n",
      "size of input and output torch.Size([1497, 5]) torch.Size([1497])\n",
      "labels.shape (2139,)\n",
      "labels [1 1 1 ... 0 0 0]\n",
      "size of input and output torch.Size([320, 5]) torch.Size([320])\n",
      "labels.shape (2139,)\n",
      "labels [1 1 1 ... 0 0 0]\n",
      "size of input and output torch.Size([320, 5]) torch.Size([320])\n"
     ]
    },
    {
     "name": "stderr",
     "output_type": "stream",
     "text": [
      "\u001b[32m[I 2023-06-01 15:16:41,940]\u001b[0m Trial 10 finished with value: 0.9214498996734619 and parameters: {'n_layers': 4, 'n_units_l0': 363, 'dropout_l0': 0.7238880149960072, 'n_units_l1': 419, 'dropout_l1': 0.2316727465528458, 'n_units_l2': 368, 'dropout_l2': 0.240412370783416, 'n_units_l3': 351, 'dropout_l3': 0.5405792448828385, 'lr': 0.000279471811024033, 'wd': 0.0014528768678589736}. Best is trial 10 with value: 0.9214498996734619.\u001b[0m\n"
     ]
    },
    {
     "name": "stdout",
     "output_type": "stream",
     "text": [
      "labels.shape (2139,)\n",
      "labels [1 1 1 ... 0 0 0]\n",
      "size of input and output torch.Size([1497, 5]) torch.Size([1497])\n",
      "labels.shape (2139,)\n",
      "labels [1 1 1 ... 0 0 0]\n",
      "size of input and output torch.Size([320, 5]) torch.Size([320])\n",
      "labels.shape (2139,)\n",
      "labels [1 1 1 ... 0 0 0]\n",
      "size of input and output torch.Size([320, 5]) torch.Size([320])\n"
     ]
    },
    {
     "name": "stderr",
     "output_type": "stream",
     "text": [
      "\u001b[32m[I 2023-06-01 15:19:54,799]\u001b[0m Trial 11 finished with value: 0.9189357042312623 and parameters: {'n_layers': 3, 'n_units_l0': 356, 'dropout_l0': 0.3201422665804159, 'n_units_l1': 277, 'dropout_l1': 0.4209976922237951, 'n_units_l2': 304, 'dropout_l2': 0.622947241978854, 'lr': 0.007404565163110751, 'wd': 2.0209515177211843e-05}. Best is trial 11 with value: 0.9189357042312623.\u001b[0m\n"
     ]
    },
    {
     "name": "stdout",
     "output_type": "stream",
     "text": [
      "labels.shape (2139,)\n",
      "labels [1 1 1 ... 0 0 0]\n",
      "size of input and output torch.Size([1497, 5]) torch.Size([1497])\n",
      "labels.shape (2139,)\n",
      "labels [1 1 1 ... 0 0 0]\n",
      "size of input and output torch.Size([320, 5]) torch.Size([320])\n",
      "labels.shape (2139,)\n",
      "labels [1 1 1 ... 0 0 0]\n",
      "size of input and output torch.Size([320, 5]) torch.Size([320])\n"
     ]
    },
    {
     "name": "stderr",
     "output_type": "stream",
     "text": [
      "\u001b[32m[I 2023-06-01 15:21:07,999]\u001b[0m Trial 12 finished with value: 0.9457665920257569 and parameters: {'n_layers': 1, 'n_units_l0': 346, 'dropout_l0': 0.20482719425883947, 'lr': 0.001504526221239777, 'wd': 2.246659677252817e-05}. Best is trial 11 with value: 0.9189357042312623.\u001b[0m\n"
     ]
    },
    {
     "name": "stdout",
     "output_type": "stream",
     "text": [
      "labels.shape (2139,)\n",
      "labels [1 1 1 ... 0 0 0]\n",
      "size of input and output torch.Size([1497, 5]) torch.Size([1497])\n",
      "labels.shape (2139,)\n",
      "labels [1 1 1 ... 0 0 0]\n",
      "size of input and output torch.Size([320, 5]) torch.Size([320])\n",
      "labels.shape (2139,)\n",
      "labels [1 1 1 ... 0 0 0]\n",
      "size of input and output torch.Size([320, 5]) torch.Size([320])\n"
     ]
    },
    {
     "name": "stderr",
     "output_type": "stream",
     "text": [
      "\u001b[32m[I 2023-06-01 15:22:50,298]\u001b[0m Trial 13 finished with value: 0.999496579170227 and parameters: {'n_layers': 5, 'n_units_l0': 64, 'dropout_l0': 0.460594575602131, 'n_units_l1': 67, 'dropout_l1': 0.6547008558191667, 'n_units_l2': 34, 'dropout_l2': 0.22562799803547942, 'n_units_l3': 160, 'dropout_l3': 0.7982331099438205, 'n_units_l4': 136, 'dropout_l4': 0.5072377301364194, 'lr': 0.00016607136687199118, 'wd': 4.593541429879169e-07}. Best is trial 11 with value: 0.9189357042312623.\u001b[0m\n"
     ]
    },
    {
     "name": "stdout",
     "output_type": "stream",
     "text": [
      "labels.shape (2139,)\n",
      "labels [1 1 1 ... 0 0 0]\n",
      "size of input and output torch.Size([1497, 5]) torch.Size([1497])\n",
      "labels.shape (2139,)\n",
      "labels [1 1 1 ... 0 0 0]\n",
      "size of input and output torch.Size([320, 5]) torch.Size([320])\n",
      "labels.shape (2139,)\n",
      "labels [1 1 1 ... 0 0 0]\n",
      "size of input and output torch.Size([320, 5]) torch.Size([320])\n"
     ]
    },
    {
     "name": "stderr",
     "output_type": "stream",
     "text": [
      "\u001b[32m[I 2023-06-01 15:23:52,383]\u001b[0m Trial 14 finished with value: 1.1295795917510987 and parameters: {'n_layers': 1, 'n_units_l0': 55, 'dropout_l0': 0.6812004906198534, 'lr': 1.897715231017737e-05, 'wd': 5.641100524110544e-06}. Best is trial 11 with value: 0.9189357042312623.\u001b[0m\n"
     ]
    },
    {
     "name": "stdout",
     "output_type": "stream",
     "text": [
      "labels.shape (2139,)\n",
      "labels [1 1 1 ... 0 0 0]\n",
      "size of input and output torch.Size([1497, 5]) torch.Size([1497])\n",
      "labels.shape (2139,)\n",
      "labels [1 1 1 ... 0 0 0]\n",
      "size of input and output torch.Size([320, 5]) torch.Size([320])\n",
      "labels.shape (2139,)\n",
      "labels [1 1 1 ... 0 0 0]\n",
      "size of input and output torch.Size([320, 5]) torch.Size([320])\n"
     ]
    },
    {
     "name": "stderr",
     "output_type": "stream",
     "text": [
      "\u001b[32m[I 2023-06-01 15:25:22,433]\u001b[0m Trial 15 finished with value: 0.9867534160614013 and parameters: {'n_layers': 4, 'n_units_l0': 65, 'dropout_l0': 0.337695289963861, 'n_units_l1': 252, 'dropout_l1': 0.7561494564898683, 'n_units_l2': 28, 'dropout_l2': 0.42269734161286565, 'n_units_l3': 61, 'dropout_l3': 0.7701732000281207, 'lr': 0.00016585384965377966, 'wd': 3.3899691757285457e-07}. Best is trial 11 with value: 0.9189357042312623.\u001b[0m\n"
     ]
    },
    {
     "name": "stdout",
     "output_type": "stream",
     "text": [
      "labels.shape (2139,)\n",
      "labels [1 1 1 ... 0 0 0]\n",
      "size of input and output torch.Size([1497, 5]) torch.Size([1497])\n",
      "labels.shape (2139,)\n",
      "labels [1 1 1 ... 0 0 0]\n",
      "size of input and output torch.Size([320, 5]) torch.Size([320])\n",
      "labels.shape (2139,)\n",
      "labels [1 1 1 ... 0 0 0]\n",
      "size of input and output torch.Size([320, 5]) torch.Size([320])\n"
     ]
    },
    {
     "name": "stderr",
     "output_type": "stream",
     "text": [
      "\u001b[32m[I 2023-06-01 15:26:35,062]\u001b[0m Trial 16 finished with value: 1.007266342639923 and parameters: {'n_layers': 1, 'n_units_l0': 257, 'dropout_l0': 0.7661273766941465, 'lr': 0.007315004816931705, 'wd': 1.9490494355577046e-08}. Best is trial 11 with value: 0.9189357042312623.\u001b[0m\n"
     ]
    },
    {
     "name": "stdout",
     "output_type": "stream",
     "text": [
      "labels.shape (2139,)\n",
      "labels [1 1 1 ... 0 0 0]\n",
      "size of input and output torch.Size([1497, 5]) torch.Size([1497])\n",
      "labels.shape (2139,)\n",
      "labels [1 1 1 ... 0 0 0]\n",
      "size of input and output torch.Size([320, 5]) torch.Size([320])\n",
      "labels.shape (2139,)\n",
      "labels [1 1 1 ... 0 0 0]\n",
      "size of input and output torch.Size([320, 5]) torch.Size([320])\n"
     ]
    },
    {
     "name": "stderr",
     "output_type": "stream",
     "text": [
      "\u001b[32m[I 2023-06-01 15:28:39,653]\u001b[0m Trial 17 finished with value: 0.9611451268196106 and parameters: {'n_layers': 2, 'n_units_l0': 310, 'dropout_l0': 0.5490318390042462, 'n_units_l1': 360, 'dropout_l1': 0.5180965702050429, 'lr': 0.00019530671484049842, 'wd': 1.3929946008582976e-06}. Best is trial 11 with value: 0.9189357042312623.\u001b[0m\n"
     ]
    },
    {
     "name": "stdout",
     "output_type": "stream",
     "text": [
      "labels.shape (2139,)\n",
      "labels [1 1 1 ... 0 0 0]\n",
      "size of input and output torch.Size([1497, 5]) torch.Size([1497])\n",
      "labels.shape (2139,)\n",
      "labels [1 1 1 ... 0 0 0]\n",
      "size of input and output torch.Size([320, 5]) torch.Size([320])\n",
      "labels.shape (2139,)\n",
      "labels [1 1 1 ... 0 0 0]\n",
      "size of input and output torch.Size([320, 5]) torch.Size([320])\n"
     ]
    },
    {
     "name": "stderr",
     "output_type": "stream",
     "text": [
      "\u001b[32m[I 2023-06-01 15:30:38,496]\u001b[0m Trial 18 finished with value: 1.046346867084503 and parameters: {'n_layers': 3, 'n_units_l0': 15, 'dropout_l0': 0.7790903024188012, 'n_units_l1': 418, 'dropout_l1': 0.6192868812919283, 'n_units_l2': 423, 'dropout_l2': 0.35274326619885354, 'lr': 0.0045675345504801665, 'wd': 3.075553681348502e-05}. Best is trial 11 with value: 0.9189357042312623.\u001b[0m\n"
     ]
    },
    {
     "name": "stdout",
     "output_type": "stream",
     "text": [
      "labels.shape (2139,)\n",
      "labels [1 1 1 ... 0 0 0]\n",
      "size of input and output torch.Size([1497, 5]) torch.Size([1497])\n",
      "labels.shape (2139,)\n",
      "labels [1 1 1 ... 0 0 0]\n",
      "size of input and output torch.Size([320, 5]) torch.Size([320])\n",
      "labels.shape (2139,)\n",
      "labels [1 1 1 ... 0 0 0]\n",
      "size of input and output torch.Size([320, 5]) torch.Size([320])\n"
     ]
    },
    {
     "name": "stderr",
     "output_type": "stream",
     "text": [
      "\u001b[32m[I 2023-06-01 15:32:20,105]\u001b[0m Trial 19 finished with value: 0.9723074197769165 and parameters: {'n_layers': 4, 'n_units_l0': 123, 'dropout_l0': 0.6753167735940795, 'n_units_l1': 428, 'dropout_l1': 0.6590567586102442, 'n_units_l2': 192, 'dropout_l2': 0.7438131672798192, 'n_units_l3': 23, 'dropout_l3': 0.3978866471280682, 'lr': 0.00040843523262401577, 'wd': 5.244584095403542e-07}. Best is trial 11 with value: 0.9189357042312623.\u001b[0m\n"
     ]
    },
    {
     "name": "stdout",
     "output_type": "stream",
     "text": [
      "labels.shape (2139,)\n",
      "labels [1 1 1 ... 0 0 0]\n",
      "size of input and output torch.Size([1497, 5]) torch.Size([1497])\n",
      "labels.shape (2139,)\n",
      "labels [1 1 1 ... 0 0 0]\n",
      "size of input and output torch.Size([320, 5]) torch.Size([320])\n",
      "labels.shape (2139,)\n",
      "labels [1 1 1 ... 0 0 0]\n",
      "size of input and output torch.Size([320, 5]) torch.Size([320])\n"
     ]
    },
    {
     "name": "stderr",
     "output_type": "stream",
     "text": [
      "\u001b[32m[I 2023-06-01 15:33:56,355]\u001b[0m Trial 20 finished with value: 1.0776890635490417 and parameters: {'n_layers': 1, 'n_units_l0': 228, 'dropout_l0': 0.6032139066540748, 'lr': 1.1493999793489654e-05, 'wd': 2.169206858137306e-07}. Best is trial 11 with value: 0.9189357042312623.\u001b[0m\n"
     ]
    },
    {
     "name": "stdout",
     "output_type": "stream",
     "text": [
      "labels.shape (2139,)\n",
      "labels [1 1 1 ... 0 0 0]\n",
      "size of input and output torch.Size([1497, 5]) torch.Size([1497])\n",
      "labels.shape (2139,)\n",
      "labels [1 1 1 ... 0 0 0]\n",
      "size of input and output torch.Size([320, 5]) torch.Size([320])\n",
      "labels.shape (2139,)\n",
      "labels [1 1 1 ... 0 0 0]\n",
      "size of input and output torch.Size([320, 5]) torch.Size([320])\n"
     ]
    },
    {
     "name": "stderr",
     "output_type": "stream",
     "text": [
      "\u001b[32m[I 2023-06-01 15:36:22,310]\u001b[0m Trial 21 finished with value: 0.9947215676307678 and parameters: {'n_layers': 5, 'n_units_l0': 280, 'dropout_l0': 0.6425013891334974, 'n_units_l1': 255, 'dropout_l1': 0.4307948546256013, 'n_units_l2': 131, 'dropout_l2': 0.7665402012000142, 'n_units_l3': 241, 'dropout_l3': 0.5715969103288588, 'n_units_l4': 158, 'dropout_l4': 0.44063690604105354, 'lr': 0.006381215989149232, 'wd': 0.00010612286665067847}. Best is trial 11 with value: 0.9189357042312623.\u001b[0m\n"
     ]
    },
    {
     "name": "stdout",
     "output_type": "stream",
     "text": [
      "labels.shape (2139,)\n",
      "labels [1 1 1 ... 0 0 0]\n",
      "size of input and output torch.Size([1497, 5]) torch.Size([1497])\n",
      "labels.shape (2139,)\n",
      "labels [1 1 1 ... 0 0 0]\n",
      "size of input and output torch.Size([320, 5]) torch.Size([320])\n",
      "labels.shape (2139,)\n",
      "labels [1 1 1 ... 0 0 0]\n",
      "size of input and output torch.Size([320, 5]) torch.Size([320])\n"
     ]
    },
    {
     "name": "stderr",
     "output_type": "stream",
     "text": [
      "\u001b[32m[I 2023-06-01 15:39:12,057]\u001b[0m Trial 22 finished with value: 0.9605737328529358 and parameters: {'n_layers': 5, 'n_units_l0': 214, 'dropout_l0': 0.7206583039689507, 'n_units_l1': 324, 'dropout_l1': 0.5135726381752413, 'n_units_l2': 48, 'dropout_l2': 0.2118130707618364, 'n_units_l3': 485, 'dropout_l3': 0.7159364567326454, 'n_units_l4': 364, 'dropout_l4': 0.20699553191480968, 'lr': 0.0002638858784751012, 'wd': 0.009006715912184571}. Best is trial 11 with value: 0.9189357042312623.\u001b[0m\n"
     ]
    },
    {
     "name": "stdout",
     "output_type": "stream",
     "text": [
      "labels.shape (2139,)\n",
      "labels [1 1 1 ... 0 0 0]\n",
      "size of input and output torch.Size([1497, 5]) torch.Size([1497])\n",
      "labels.shape (2139,)\n",
      "labels [1 1 1 ... 0 0 0]\n",
      "size of input and output torch.Size([320, 5]) torch.Size([320])\n",
      "labels.shape (2139,)\n",
      "labels [1 1 1 ... 0 0 0]\n",
      "size of input and output torch.Size([320, 5]) torch.Size([320])\n"
     ]
    },
    {
     "name": "stderr",
     "output_type": "stream",
     "text": [
      "\u001b[32m[I 2023-06-01 15:40:13,249]\u001b[0m Trial 23 finished with value: 0.9909661173820495 and parameters: {'n_layers': 1, 'n_units_l0': 203, 'dropout_l0': 0.5064838539443605, 'lr': 0.0016085355199964907, 'wd': 0.0006202921759741862}. Best is trial 11 with value: 0.9189357042312623.\u001b[0m\n"
     ]
    },
    {
     "name": "stdout",
     "output_type": "stream",
     "text": [
      "labels.shape (2139,)\n",
      "labels [1 1 1 ... 0 0 0]\n",
      "size of input and output torch.Size([1497, 5]) torch.Size([1497])\n",
      "labels.shape (2139,)\n",
      "labels [1 1 1 ... 0 0 0]\n",
      "size of input and output torch.Size([320, 5]) torch.Size([320])\n",
      "labels.shape (2139,)\n",
      "labels [1 1 1 ... 0 0 0]\n",
      "size of input and output torch.Size([320, 5]) torch.Size([320])\n"
     ]
    },
    {
     "name": "stderr",
     "output_type": "stream",
     "text": [
      "\u001b[32m[I 2023-06-01 15:41:12,481]\u001b[0m Trial 24 finished with value: 0.991773784160614 and parameters: {'n_layers': 2, 'n_units_l0': 75, 'dropout_l0': 0.42223247584710544, 'n_units_l1': 87, 'dropout_l1': 0.36276768312683605, 'lr': 0.0002243597539811112, 'wd': 0.00015071562982607554}. Best is trial 11 with value: 0.9189357042312623.\u001b[0m\n"
     ]
    },
    {
     "name": "stdout",
     "output_type": "stream",
     "text": [
      "labels.shape (2139,)\n",
      "labels [1 1 1 ... 0 0 0]\n",
      "size of input and output torch.Size([1497, 5]) torch.Size([1497])\n",
      "labels.shape (2139,)\n",
      "labels [1 1 1 ... 0 0 0]\n",
      "size of input and output torch.Size([320, 5]) torch.Size([320])\n",
      "labels.shape (2139,)\n",
      "labels [1 1 1 ... 0 0 0]\n",
      "size of input and output torch.Size([320, 5]) torch.Size([320])\n"
     ]
    },
    {
     "name": "stderr",
     "output_type": "stream",
     "text": [
      "\u001b[32m[I 2023-06-01 15:42:56,256]\u001b[0m Trial 25 finished with value: 0.9496190547943115 and parameters: {'n_layers': 2, 'n_units_l0': 296, 'dropout_l0': 0.3562134368618909, 'n_units_l1': 444, 'dropout_l1': 0.708365400455842, 'lr': 0.008329051716643396, 'wd': 1.5441707571599029e-07}. Best is trial 11 with value: 0.9189357042312623.\u001b[0m\n"
     ]
    },
    {
     "name": "stdout",
     "output_type": "stream",
     "text": [
      "labels.shape (2139,)\n",
      "labels [1 1 1 ... 0 0 0]\n",
      "size of input and output torch.Size([1497, 5]) torch.Size([1497])\n",
      "labels.shape (2139,)\n",
      "labels [1 1 1 ... 0 0 0]\n",
      "size of input and output torch.Size([320, 5]) torch.Size([320])\n",
      "labels.shape (2139,)\n",
      "labels [1 1 1 ... 0 0 0]\n",
      "size of input and output torch.Size([320, 5]) torch.Size([320])\n"
     ]
    },
    {
     "name": "stderr",
     "output_type": "stream",
     "text": [
      "\u001b[32m[I 2023-06-01 15:44:12,420]\u001b[0m Trial 26 finished with value: 1.0173143863677978 and parameters: {'n_layers': 2, 'n_units_l0': 385, 'dropout_l0': 0.3960003821276838, 'n_units_l1': 140, 'dropout_l1': 0.5415319853126184, 'lr': 1.4743921805635856e-05, 'wd': 0.0001091765071964942}. Best is trial 11 with value: 0.9189357042312623.\u001b[0m\n"
     ]
    },
    {
     "name": "stdout",
     "output_type": "stream",
     "text": [
      "labels.shape (2139,)\n",
      "labels [1 1 1 ... 0 0 0]\n",
      "size of input and output torch.Size([1497, 5]) torch.Size([1497])\n",
      "labels.shape (2139,)\n",
      "labels [1 1 1 ... 0 0 0]\n",
      "size of input and output torch.Size([320, 5]) torch.Size([320])\n",
      "labels.shape (2139,)\n",
      "labels [1 1 1 ... 0 0 0]\n",
      "size of input and output torch.Size([320, 5]) torch.Size([320])\n"
     ]
    },
    {
     "name": "stderr",
     "output_type": "stream",
     "text": [
      "\u001b[32m[I 2023-06-01 15:45:09,535]\u001b[0m Trial 27 finished with value: 1.0753557801246643 and parameters: {'n_layers': 1, 'n_units_l0': 166, 'dropout_l0': 0.2732100858925466, 'lr': 1.5304769935298464e-05, 'wd': 3.738836130423422e-06}. Best is trial 11 with value: 0.9189357042312623.\u001b[0m\n"
     ]
    },
    {
     "name": "stdout",
     "output_type": "stream",
     "text": [
      "labels.shape (2139,)\n",
      "labels [1 1 1 ... 0 0 0]\n",
      "size of input and output torch.Size([1497, 5]) torch.Size([1497])\n",
      "labels.shape (2139,)\n",
      "labels [1 1 1 ... 0 0 0]\n",
      "size of input and output torch.Size([320, 5]) torch.Size([320])\n",
      "labels.shape (2139,)\n",
      "labels [1 1 1 ... 0 0 0]\n",
      "size of input and output torch.Size([320, 5]) torch.Size([320])\n"
     ]
    },
    {
     "name": "stderr",
     "output_type": "stream",
     "text": [
      "\u001b[32m[I 2023-06-01 15:46:01,258]\u001b[0m Trial 28 finished with value: 1.059845495223999 and parameters: {'n_layers': 1, 'n_units_l0': 19, 'dropout_l0': 0.35106352816649694, 'lr': 0.00010440948681844625, 'wd': 0.0037528215084354365}. Best is trial 11 with value: 0.9189357042312623.\u001b[0m\n"
     ]
    },
    {
     "name": "stdout",
     "output_type": "stream",
     "text": [
      "labels.shape (2139,)\n",
      "labels [1 1 1 ... 0 0 0]\n",
      "size of input and output torch.Size([1497, 5]) torch.Size([1497])\n",
      "labels.shape (2139,)\n",
      "labels [1 1 1 ... 0 0 0]\n",
      "size of input and output torch.Size([320, 5]) torch.Size([320])\n",
      "labels.shape (2139,)\n",
      "labels [1 1 1 ... 0 0 0]\n",
      "size of input and output torch.Size([320, 5]) torch.Size([320])\n"
     ]
    },
    {
     "name": "stderr",
     "output_type": "stream",
     "text": [
      "\u001b[32m[I 2023-06-01 15:46:53,381]\u001b[0m Trial 29 finished with value: 1.0410235524177551 and parameters: {'n_layers': 1, 'n_units_l0': 52, 'dropout_l0': 0.6373065529961299, 'lr': 0.00020627127551145136, 'wd': 1.7219700338564447e-07}. Best is trial 11 with value: 0.9189357042312623.\u001b[0m\n"
     ]
    },
    {
     "name": "stdout",
     "output_type": "stream",
     "text": [
      "labels.shape (2139,)\n",
      "labels [1 1 1 ... 0 0 0]\n",
      "size of input and output torch.Size([1497, 5]) torch.Size([1497])\n",
      "labels.shape (2139,)\n",
      "labels [1 1 1 ... 0 0 0]\n",
      "size of input and output torch.Size([320, 5]) torch.Size([320])\n",
      "labels.shape (2139,)\n",
      "labels [1 1 1 ... 0 0 0]\n",
      "size of input and output torch.Size([320, 5]) torch.Size([320])\n"
     ]
    },
    {
     "name": "stderr",
     "output_type": "stream",
     "text": [
      "\u001b[32m[I 2023-06-01 15:48:08,963]\u001b[0m Trial 30 finished with value: 0.8990158557891845 and parameters: {'n_layers': 3, 'n_units_l0': 480, 'dropout_l0': 0.5807398615650529, 'n_units_l1': 13, 'dropout_l1': 0.20111468445335937, 'n_units_l2': 322, 'dropout_l2': 0.27627148555011627, 'lr': 0.003646465764405212, 'wd': 0.0006608767117643318}. Best is trial 30 with value: 0.8990158557891845.\u001b[0m\n"
     ]
    },
    {
     "name": "stdout",
     "output_type": "stream",
     "text": [
      "labels.shape (2139,)\n",
      "labels [1 1 1 ... 0 0 0]\n",
      "size of input and output torch.Size([1497, 5]) torch.Size([1497])\n",
      "labels.shape (2139,)\n",
      "labels [1 1 1 ... 0 0 0]\n",
      "size of input and output torch.Size([320, 5]) torch.Size([320])\n",
      "labels.shape (2139,)\n",
      "labels [1 1 1 ... 0 0 0]\n",
      "size of input and output torch.Size([320, 5]) torch.Size([320])\n"
     ]
    },
    {
     "name": "stderr",
     "output_type": "stream",
     "text": [
      "\u001b[32m[I 2023-06-01 15:49:25,977]\u001b[0m Trial 31 finished with value: 0.9059027910232544 and parameters: {'n_layers': 3, 'n_units_l0': 489, 'dropout_l0': 0.6067737625060138, 'n_units_l1': 18, 'dropout_l1': 0.20937426923736213, 'n_units_l2': 305, 'dropout_l2': 0.2633602543030227, 'lr': 0.0037449731692407494, 'wd': 0.00057282751125637}. Best is trial 30 with value: 0.8990158557891845.\u001b[0m\n"
     ]
    },
    {
     "name": "stdout",
     "output_type": "stream",
     "text": [
      "labels.shape (2139,)\n",
      "labels [1 1 1 ... 0 0 0]\n",
      "size of input and output torch.Size([1497, 5]) torch.Size([1497])\n",
      "labels.shape (2139,)\n",
      "labels [1 1 1 ... 0 0 0]\n",
      "size of input and output torch.Size([320, 5]) torch.Size([320])\n",
      "labels.shape (2139,)\n",
      "labels [1 1 1 ... 0 0 0]\n",
      "size of input and output torch.Size([320, 5]) torch.Size([320])\n"
     ]
    },
    {
     "name": "stderr",
     "output_type": "stream",
     "text": [
      "\u001b[32m[I 2023-06-01 15:50:45,902]\u001b[0m Trial 32 finished with value: 0.9293148756027222 and parameters: {'n_layers': 3, 'n_units_l0': 500, 'dropout_l0': 0.5740914725455236, 'n_units_l1': 8, 'dropout_l1': 0.2046949975054321, 'n_units_l2': 291, 'dropout_l2': 0.32089689589032105, 'lr': 0.00434063965062042, 'wd': 0.0008831239159492563}. Best is trial 30 with value: 0.8990158557891845.\u001b[0m\n"
     ]
    },
    {
     "name": "stdout",
     "output_type": "stream",
     "text": [
      "labels.shape (2139,)\n",
      "labels [1 1 1 ... 0 0 0]\n",
      "size of input and output torch.Size([1497, 5]) torch.Size([1497])\n",
      "labels.shape (2139,)\n",
      "labels [1 1 1 ... 0 0 0]\n",
      "size of input and output torch.Size([320, 5]) torch.Size([320])\n",
      "labels.shape (2139,)\n",
      "labels [1 1 1 ... 0 0 0]\n",
      "size of input and output torch.Size([320, 5]) torch.Size([320])\n"
     ]
    },
    {
     "name": "stderr",
     "output_type": "stream",
     "text": [
      "\u001b[32m[I 2023-06-01 15:53:24,658]\u001b[0m Trial 33 finished with value: 0.8887063264846802 and parameters: {'n_layers': 3, 'n_units_l0': 412, 'dropout_l0': 0.5468371533110555, 'n_units_l1': 500, 'dropout_l1': 0.2538992303841835, 'n_units_l2': 296, 'dropout_l2': 0.27890498665190583, 'lr': 0.0005523980302426283, 'wd': 0.000709677620551864}. Best is trial 33 with value: 0.8887063264846802.\u001b[0m\n"
     ]
    },
    {
     "name": "stdout",
     "output_type": "stream",
     "text": [
      "labels.shape (2139,)\n",
      "labels [1 1 1 ... 0 0 0]\n",
      "size of input and output torch.Size([1497, 5]) torch.Size([1497])\n",
      "labels.shape (2139,)\n",
      "labels [1 1 1 ... 0 0 0]\n",
      "size of input and output torch.Size([320, 5]) torch.Size([320])\n",
      "labels.shape (2139,)\n",
      "labels [1 1 1 ... 0 0 0]\n",
      "size of input and output torch.Size([320, 5]) torch.Size([320])\n"
     ]
    },
    {
     "name": "stderr",
     "output_type": "stream",
     "text": [
      "\u001b[32m[I 2023-06-01 15:58:28,034]\u001b[0m Trial 34 finished with value: 0.9241447210311889 and parameters: {'n_layers': 3, 'n_units_l0': 439, 'dropout_l0': 0.5508458102305862, 'n_units_l1': 499, 'dropout_l1': 0.2772503140220478, 'n_units_l2': 284, 'dropout_l2': 0.2895402835467297, 'lr': 0.009901480089158763, 'wd': 0.0003685285560000554}. Best is trial 33 with value: 0.8887063264846802.\u001b[0m\n"
     ]
    },
    {
     "name": "stdout",
     "output_type": "stream",
     "text": [
      "labels.shape (2139,)\n",
      "labels [1 1 1 ... 0 0 0]\n",
      "size of input and output torch.Size([1497, 5]) torch.Size([1497])\n",
      "labels.shape (2139,)\n",
      "labels [1 1 1 ... 0 0 0]\n",
      "size of input and output torch.Size([320, 5]) torch.Size([320])\n",
      "labels.shape (2139,)\n",
      "labels [1 1 1 ... 0 0 0]\n",
      "size of input and output torch.Size([320, 5]) torch.Size([320])\n"
     ]
    },
    {
     "name": "stderr",
     "output_type": "stream",
     "text": [
      "\u001b[32m[I 2023-06-01 16:00:28,246]\u001b[0m Trial 35 finished with value: 0.9311175227165223 and parameters: {'n_layers': 3, 'n_units_l0': 489, 'dropout_l0': 0.5407811606774188, 'n_units_l1': 15, 'dropout_l1': 0.28549481198249316, 'n_units_l2': 305, 'dropout_l2': 0.4484229172454006, 'lr': 0.0027954523863738343, 'wd': 0.000302510308539802}. Best is trial 33 with value: 0.8887063264846802.\u001b[0m\n"
     ]
    },
    {
     "name": "stdout",
     "output_type": "stream",
     "text": [
      "labels.shape (2139,)\n",
      "labels [1 1 1 ... 0 0 0]\n",
      "size of input and output torch.Size([1497, 5]) torch.Size([1497])\n",
      "labels.shape (2139,)\n",
      "labels [1 1 1 ... 0 0 0]\n",
      "size of input and output torch.Size([320, 5]) torch.Size([320])\n",
      "labels.shape (2139,)\n",
      "labels [1 1 1 ... 0 0 0]\n",
      "size of input and output torch.Size([320, 5]) torch.Size([320])\n"
     ]
    },
    {
     "name": "stderr",
     "output_type": "stream",
     "text": [
      "\u001b[32m[I 2023-06-01 16:03:44,162]\u001b[0m Trial 36 finished with value: 0.8854097962379456 and parameters: {'n_layers': 3, 'n_units_l0': 401, 'dropout_l0': 0.6061095677043123, 'n_units_l1': 296, 'dropout_l1': 0.20348715107043355, 'n_units_l2': 232, 'dropout_l2': 0.301745020260792, 'lr': 0.0005791702295069295, 'wd': 0.0017316356909606125}. Best is trial 36 with value: 0.8854097962379456.\u001b[0m\n"
     ]
    },
    {
     "name": "stdout",
     "output_type": "stream",
     "text": [
      "labels.shape (2139,)\n",
      "labels [1 1 1 ... 0 0 0]\n",
      "size of input and output torch.Size([1497, 5]) torch.Size([1497])\n",
      "labels.shape (2139,)\n",
      "labels [1 1 1 ... 0 0 0]\n",
      "size of input and output torch.Size([320, 5]) torch.Size([320])\n",
      "labels.shape (2139,)\n",
      "labels [1 1 1 ... 0 0 0]\n",
      "size of input and output torch.Size([320, 5]) torch.Size([320])\n"
     ]
    },
    {
     "name": "stderr",
     "output_type": "stream",
     "text": [
      "\u001b[32m[I 2023-06-01 16:06:57,321]\u001b[0m Trial 37 finished with value: 0.8831483840942382 and parameters: {'n_layers': 3, 'n_units_l0': 417, 'dropout_l0': 0.5972764016330773, 'n_units_l1': 355, 'dropout_l1': 0.20543964034999765, 'n_units_l2': 217, 'dropout_l2': 0.28705254287957593, 'lr': 0.0005841898787632884, 'wd': 0.002022271824771725}. Best is trial 37 with value: 0.8831483840942382.\u001b[0m\n"
     ]
    },
    {
     "name": "stdout",
     "output_type": "stream",
     "text": [
      "labels.shape (2139,)\n",
      "labels [1 1 1 ... 0 0 0]\n",
      "size of input and output torch.Size([1497, 5]) torch.Size([1497])\n",
      "labels.shape (2139,)\n",
      "labels [1 1 1 ... 0 0 0]\n",
      "size of input and output torch.Size([320, 5]) torch.Size([320])\n",
      "labels.shape (2139,)\n",
      "labels [1 1 1 ... 0 0 0]\n",
      "size of input and output torch.Size([320, 5]) torch.Size([320])\n"
     ]
    },
    {
     "name": "stderr",
     "output_type": "stream",
     "text": [
      "\u001b[32m[I 2023-06-01 16:09:13,872]\u001b[0m Trial 38 finished with value: 0.8848771810531616 and parameters: {'n_layers': 3, 'n_units_l0': 411, 'dropout_l0': 0.5170131579692664, 'n_units_l1': 358, 'dropout_l1': 0.26408650100811415, 'n_units_l2': 222, 'dropout_l2': 0.3016986282148054, 'lr': 0.0007258366282710517, 'wd': 0.001923676411622913}. Best is trial 37 with value: 0.8831483840942382.\u001b[0m\n"
     ]
    },
    {
     "name": "stdout",
     "output_type": "stream",
     "text": [
      "labels.shape (2139,)\n",
      "labels [1 1 1 ... 0 0 0]\n",
      "size of input and output torch.Size([1497, 5]) torch.Size([1497])\n",
      "labels.shape (2139,)\n",
      "labels [1 1 1 ... 0 0 0]\n",
      "size of input and output torch.Size([320, 5]) torch.Size([320])\n",
      "labels.shape (2139,)\n",
      "labels [1 1 1 ... 0 0 0]\n",
      "size of input and output torch.Size([320, 5]) torch.Size([320])\n"
     ]
    },
    {
     "name": "stderr",
     "output_type": "stream",
     "text": [
      "\u001b[32m[I 2023-06-01 16:11:22,044]\u001b[0m Trial 39 finished with value: 0.9038602709770203 and parameters: {'n_layers': 3, 'n_units_l0': 392, 'dropout_l0': 0.5137754825051929, 'n_units_l1': 356, 'dropout_l1': 0.2780515565818986, 'n_units_l2': 228, 'dropout_l2': 0.33012659475539985, 'lr': 0.0006964244285547533, 'wd': 0.0022591101200106086}. Best is trial 37 with value: 0.8831483840942382.\u001b[0m\n"
     ]
    },
    {
     "name": "stdout",
     "output_type": "stream",
     "text": [
      "labels.shape (2139,)\n",
      "labels [1 1 1 ... 0 0 0]\n",
      "size of input and output torch.Size([1497, 5]) torch.Size([1497])\n",
      "labels.shape (2139,)\n",
      "labels [1 1 1 ... 0 0 0]\n",
      "size of input and output torch.Size([320, 5]) torch.Size([320])\n",
      "labels.shape (2139,)\n",
      "labels [1 1 1 ... 0 0 0]\n",
      "size of input and output torch.Size([320, 5]) torch.Size([320])\n"
     ]
    },
    {
     "name": "stderr",
     "output_type": "stream",
     "text": [
      "\u001b[32m[I 2023-06-01 16:15:44,507]\u001b[0m Trial 40 finished with value: 0.9022152900695801 and parameters: {'n_layers': 4, 'n_units_l0': 432, 'dropout_l0': 0.46534851285999085, 'n_units_l1': 304, 'dropout_l1': 0.24711191615366992, 'n_units_l2': 224, 'dropout_l2': 0.3049834221001688, 'n_units_l3': 479, 'dropout_l3': 0.2074763939747995, 'lr': 0.0006074293687600575, 'wd': 0.0016618873064468864}. Best is trial 37 with value: 0.8831483840942382.\u001b[0m\n"
     ]
    },
    {
     "name": "stdout",
     "output_type": "stream",
     "text": [
      "labels.shape (2139,)\n",
      "labels [1 1 1 ... 0 0 0]\n",
      "size of input and output torch.Size([1497, 5]) torch.Size([1497])\n",
      "labels.shape (2139,)\n",
      "labels [1 1 1 ... 0 0 0]\n",
      "size of input and output torch.Size([320, 5]) torch.Size([320])\n",
      "labels.shape (2139,)\n",
      "labels [1 1 1 ... 0 0 0]\n",
      "size of input and output torch.Size([320, 5]) torch.Size([320])\n"
     ]
    },
    {
     "name": "stderr",
     "output_type": "stream",
     "text": [
      "\u001b[32m[I 2023-06-01 16:19:15,503]\u001b[0m Trial 41 finished with value: 0.8847473502159119 and parameters: {'n_layers': 3, 'n_units_l0': 408, 'dropout_l0': 0.5838184514649855, 'n_units_l1': 376, 'dropout_l1': 0.20115341393019504, 'n_units_l2': 179, 'dropout_l2': 0.29518591009871625, 'lr': 0.0007639588275734526, 'wd': 0.00448150456612584}. Best is trial 37 with value: 0.8831483840942382.\u001b[0m\n"
     ]
    },
    {
     "name": "stdout",
     "output_type": "stream",
     "text": [
      "labels.shape (2139,)\n",
      "labels [1 1 1 ... 0 0 0]\n",
      "size of input and output torch.Size([1497, 5]) torch.Size([1497])\n",
      "labels.shape (2139,)\n",
      "labels [1 1 1 ... 0 0 0]\n",
      "size of input and output torch.Size([320, 5]) torch.Size([320])\n",
      "labels.shape (2139,)\n",
      "labels [1 1 1 ... 0 0 0]\n",
      "size of input and output torch.Size([320, 5]) torch.Size([320])\n"
     ]
    },
    {
     "name": "stderr",
     "output_type": "stream",
     "text": [
      "\u001b[32m[I 2023-06-01 16:22:37,294]\u001b[0m Trial 42 finished with value: 0.8892449140548706 and parameters: {'n_layers': 3, 'n_units_l0': 413, 'dropout_l0': 0.5255490453696406, 'n_units_l1': 374, 'dropout_l1': 0.30490162670519466, 'n_units_l2': 177, 'dropout_l2': 0.3713889917526003, 'lr': 0.0007277782272759857, 'wd': 0.004451910938520881}. Best is trial 37 with value: 0.8831483840942382.\u001b[0m\n"
     ]
    },
    {
     "name": "stdout",
     "output_type": "stream",
     "text": [
      "labels.shape (2139,)\n",
      "labels [1 1 1 ... 0 0 0]\n",
      "size of input and output torch.Size([1497, 5]) torch.Size([1497])\n",
      "labels.shape (2139,)\n",
      "labels [1 1 1 ... 0 0 0]\n",
      "size of input and output torch.Size([320, 5]) torch.Size([320])\n",
      "labels.shape (2139,)\n",
      "labels [1 1 1 ... 0 0 0]\n",
      "size of input and output torch.Size([320, 5]) torch.Size([320])\n"
     ]
    },
    {
     "name": "stderr",
     "output_type": "stream",
     "text": [
      "\u001b[32m[I 2023-06-01 16:26:35,821]\u001b[0m Trial 43 finished with value: 0.8975622296333313 and parameters: {'n_layers': 3, 'n_units_l0': 406, 'dropout_l0': 0.5700981732921006, 'n_units_l1': 329, 'dropout_l1': 0.2397565656076809, 'n_units_l2': 250, 'dropout_l2': 0.2834295466713348, 'lr': 0.00039204154014083124, 'wd': 0.002558006300973823}. Best is trial 37 with value: 0.8831483840942382.\u001b[0m\n"
     ]
    },
    {
     "name": "stdout",
     "output_type": "stream",
     "text": [
      "labels.shape (2139,)\n",
      "labels [1 1 1 ... 0 0 0]\n",
      "size of input and output torch.Size([1497, 5]) torch.Size([1497])\n",
      "labels.shape (2139,)\n",
      "labels [1 1 1 ... 0 0 0]\n",
      "size of input and output torch.Size([320, 5]) torch.Size([320])\n",
      "labels.shape (2139,)\n",
      "labels [1 1 1 ... 0 0 0]\n",
      "size of input and output torch.Size([320, 5]) torch.Size([320])\n"
     ]
    },
    {
     "name": "stderr",
     "output_type": "stream",
     "text": [
      "\u001b[32m[I 2023-06-01 16:30:38,154]\u001b[0m Trial 44 finished with value: 0.879888904094696 and parameters: {'n_layers': 4, 'n_units_l0': 462, 'dropout_l0': 0.4864343558320114, 'n_units_l1': 482, 'dropout_l1': 0.3075692293123195, 'n_units_l2': 189, 'dropout_l2': 0.2633390537317342, 'n_units_l3': 381, 'dropout_l3': 0.3584793881173535, 'lr': 0.0008946090999908592, 'wd': 0.005752129050507543}. Best is trial 44 with value: 0.879888904094696.\u001b[0m\n"
     ]
    },
    {
     "name": "stdout",
     "output_type": "stream",
     "text": [
      "labels.shape (2139,)\n",
      "labels [1 1 1 ... 0 0 0]\n",
      "size of input and output torch.Size([1497, 5]) torch.Size([1497])\n",
      "labels.shape (2139,)\n",
      "labels [1 1 1 ... 0 0 0]\n",
      "size of input and output torch.Size([320, 5]) torch.Size([320])\n",
      "labels.shape (2139,)\n",
      "labels [1 1 1 ... 0 0 0]\n",
      "size of input and output torch.Size([320, 5]) torch.Size([320])\n"
     ]
    },
    {
     "name": "stderr",
     "output_type": "stream",
     "text": [
      "\u001b[32m[I 2023-06-01 16:36:37,268]\u001b[0m Trial 45 finished with value: 0.8824154376983643 and parameters: {'n_layers': 4, 'n_units_l0': 459, 'dropout_l0': 0.47834325435639363, 'n_units_l1': 382, 'dropout_l1': 0.3125003780023824, 'n_units_l2': 127, 'dropout_l2': 0.20186817565405402, 'n_units_l3': 402, 'dropout_l3': 0.3931439239841157, 'lr': 0.000934402715512333, 'wd': 0.006113098792205408}. Best is trial 44 with value: 0.879888904094696.\u001b[0m\n"
     ]
    },
    {
     "name": "stdout",
     "output_type": "stream",
     "text": [
      "labels.shape (2139,)\n",
      "labels [1 1 1 ... 0 0 0]\n",
      "size of input and output torch.Size([1497, 5]) torch.Size([1497])\n",
      "labels.shape (2139,)\n",
      "labels [1 1 1 ... 0 0 0]\n",
      "size of input and output torch.Size([320, 5]) torch.Size([320])\n",
      "labels.shape (2139,)\n",
      "labels [1 1 1 ... 0 0 0]\n",
      "size of input and output torch.Size([320, 5]) torch.Size([320])\n"
     ]
    },
    {
     "name": "stderr",
     "output_type": "stream",
     "text": [
      "\u001b[32m[I 2023-06-01 16:41:05,672]\u001b[0m Trial 46 finished with value: 0.8851044297218322 and parameters: {'n_layers': 4, 'n_units_l0': 463, 'dropout_l0': 0.4784357663816528, 'n_units_l1': 390, 'dropout_l1': 0.3147869437012569, 'n_units_l2': 111, 'dropout_l2': 0.2178266728533731, 'n_units_l3': 379, 'dropout_l3': 0.4037369236652206, 'lr': 0.0010629020967938409, 'wd': 0.005874051403173954}. Best is trial 44 with value: 0.879888904094696.\u001b[0m\n"
     ]
    },
    {
     "name": "stdout",
     "output_type": "stream",
     "text": [
      "labels.shape (2139,)\n",
      "labels [1 1 1 ... 0 0 0]\n",
      "size of input and output torch.Size([1497, 5]) torch.Size([1497])\n",
      "labels.shape (2139,)\n",
      "labels [1 1 1 ... 0 0 0]\n",
      "size of input and output torch.Size([320, 5]) torch.Size([320])\n",
      "labels.shape (2139,)\n",
      "labels [1 1 1 ... 0 0 0]\n",
      "size of input and output torch.Size([320, 5]) torch.Size([320])\n"
     ]
    },
    {
     "name": "stderr",
     "output_type": "stream",
     "text": [
      "\u001b[32m[I 2023-06-01 16:46:14,612]\u001b[0m Trial 47 finished with value: 0.8576046586036682 and parameters: {'n_layers': 4, 'n_units_l0': 333, 'dropout_l0': 0.493895281796021, 'n_units_l1': 396, 'dropout_l1': 0.3460606793747979, 'n_units_l2': 85, 'dropout_l2': 0.24913962166483994, 'n_units_l3': 423, 'dropout_l3': 0.3978684708092593, 'lr': 0.0009539903601749256, 'wd': 0.009344986387296987}. Best is trial 47 with value: 0.8576046586036682.\u001b[0m\n"
     ]
    },
    {
     "name": "stdout",
     "output_type": "stream",
     "text": [
      "labels.shape (2139,)\n",
      "labels [1 1 1 ... 0 0 0]\n",
      "size of input and output torch.Size([1497, 5]) torch.Size([1497])\n",
      "labels.shape (2139,)\n",
      "labels [1 1 1 ... 0 0 0]\n",
      "size of input and output torch.Size([320, 5]) torch.Size([320])\n",
      "labels.shape (2139,)\n",
      "labels [1 1 1 ... 0 0 0]\n",
      "size of input and output torch.Size([320, 5]) torch.Size([320])\n"
     ]
    },
    {
     "name": "stderr",
     "output_type": "stream",
     "text": [
      "\u001b[32m[I 2023-06-01 16:51:36,225]\u001b[0m Trial 48 finished with value: 0.8861823678016663 and parameters: {'n_layers': 4, 'n_units_l0': 463, 'dropout_l0': 0.47840762021685496, 'n_units_l1': 460, 'dropout_l1': 0.32929662603333465, 'n_units_l2': 86, 'dropout_l2': 0.24893675648586017, 'n_units_l3': 412, 'dropout_l3': 0.3924047207018784, 'lr': 0.0010480345243629786, 'wd': 0.009488247018321488}. Best is trial 47 with value: 0.8576046586036682.\u001b[0m\n"
     ]
    },
    {
     "name": "stdout",
     "output_type": "stream",
     "text": [
      "labels.shape (2139,)\n",
      "labels [1 1 1 ... 0 0 0]\n",
      "size of input and output torch.Size([1497, 5]) torch.Size([1497])\n",
      "labels.shape (2139,)\n",
      "labels [1 1 1 ... 0 0 0]\n",
      "size of input and output torch.Size([320, 5]) torch.Size([320])\n",
      "labels.shape (2139,)\n",
      "labels [1 1 1 ... 0 0 0]\n",
      "size of input and output torch.Size([320, 5]) torch.Size([320])\n"
     ]
    },
    {
     "name": "stderr",
     "output_type": "stream",
     "text": [
      "\u001b[32m[I 2023-06-01 16:56:26,133]\u001b[0m Trial 49 finished with value: 0.8687188506126404 and parameters: {'n_layers': 4, 'n_units_l0': 335, 'dropout_l0': 0.43969734228491253, 'n_units_l1': 471, 'dropout_l1': 0.34852162516395757, 'n_units_l2': 174, 'dropout_l2': 0.24655421810655667, 'n_units_l3': 304, 'dropout_l3': 0.33590732164344983, 'lr': 0.0017742002309520273, 'wd': 0.004529814686662566}. Best is trial 47 with value: 0.8576046586036682.\u001b[0m\n"
     ]
    }
   ],
   "source": [
    "device = torch.device('cpu')\n",
    "\n",
    "# define the optuna study and optimize it\n",
    "objective = Objective(input_size, output_size, max_layers, max_neurons_layers, \n",
    "                      device, epochs, seed, batch_size)\n",
    "sampler = optuna.samplers.TPESampler(n_startup_trials=n_startup_trials)\n",
    "study = optuna.create_study(study_name=study_name, sampler=sampler, storage=storage,\n",
    "                            load_if_exists=True)\n",
    "study.optimize(objective, n_trials, n_jobs=n_jobs)\n"
   ]
  },
  {
   "cell_type": "code",
   "execution_count": null,
   "id": "96dab809-938c-4594-a999-505a92f6e02d",
   "metadata": {},
   "outputs": [],
   "source": []
  }
 ],
 "metadata": {
  "kernelspec": {
   "display_name": "Python 3 (ipykernel)",
   "language": "python",
   "name": "python3"
  },
  "language_info": {
   "codemirror_mode": {
    "name": "ipython",
    "version": 3
   },
   "file_extension": ".py",
   "mimetype": "text/x-python",
   "name": "python",
   "nbconvert_exporter": "python",
   "pygments_lexer": "ipython3",
   "version": "3.10.9"
  }
 },
 "nbformat": 4,
 "nbformat_minor": 5
}
