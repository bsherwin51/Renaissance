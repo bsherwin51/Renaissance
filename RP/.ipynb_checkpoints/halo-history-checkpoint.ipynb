{
 "cells": [
  {
   "cell_type": "code",
   "execution_count": 1,
   "metadata": {},
   "outputs": [],
   "source": [
    "%matplotlib inline\n",
    "import matplotlib.pyplot as plt\n",
    "import numpy as np\n",
    "import h5py as h5\n",
    "import ytree\n",
    "import yt\n",
    "import cPickle as pickle\n",
    "import os\n",
    "import math"
   ]
  },
  {
   "cell_type": "code",
   "execution_count": 2,
   "metadata": {},
   "outputs": [],
   "source": [
    "from matplotlib import rc, rcParams\n",
    "rc('font', size=18)\n",
    "rc('xtick', direction='in')\n",
    "rc('ytick', direction='in')"
   ]
  },
  {
   "cell_type": "markdown",
   "metadata": {},
   "source": [
    "# Read halo merger trees"
   ]
  },
  {
   "cell_type": "code",
   "execution_count": 3,
   "metadata": {},
   "outputs": [
    {
     "name": "stderr",
     "output_type": "stream",
     "text": [
      "ytree: [WARNING  ] 2018-05-15 09:08:34,453 Overriding field \"mass\" that already exists as alias field.\n"
     ]
    },
    {
     "name": "stdout",
     "output_type": "stream",
     "text": [
      "Performance will be improved by saving this arbor with \"save_arbor\" and reloading:\n",
      "\t>>> a = ytree.load(\"rockstar_halos/trees/tree_0_0_0.dat\")\n",
      "\t>>> fn = a.save_arbor()\n",
      "\t>>> a = ytree.load(fn)\n"
     ]
    }
   ],
   "source": [
    "trees = ytree.load('rockstar_halos/trees/tree_0_0_0.dat')\n",
    "trees.add_alias_field('mass', 'Mvir')"
   ]
  },
  {
   "cell_type": "code",
   "execution_count": 4,
   "metadata": {},
   "outputs": [
    {
     "name": "stderr",
     "output_type": "stream",
     "text": [
      "Loading tree roots: 100%|██████████| 460025722/460025722 [00:01<00:00, 302176944.78it/s]\n"
     ]
    }
   ],
   "source": [
    "mrange = [1e8, 1e10]\n",
    "halo_mmp = []\n",
    "for tree in trees:\n",
    "    if tree['mass'].in_units('Msun') < mrange[0] or tree['mass'].in_units('Msun') > mrange[1]:\n",
    "        continue\n",
    "    mmp = dict(center=[], mass=[], redshift=[], rvir=[])\n",
    "    for prog in tree.pwalk():\n",
    "        pos = yt.YTArray([prog['x'], prog['y'], prog['z']]) / trees.box_size\n",
    "        mmp['center'].append(pos)\n",
    "        mmp['mass'].append(prog['mass'].in_units('Msun'))\n",
    "        mmp['redshift'].append(prog['redshift'])\n",
    "        mmp['rvir'].append(prog['virial_radius'] / trees.box_size)\n",
    "    mmp['center'] = yt.YTArray(mmp['center'])\n",
    "    mmp['mass'] = yt.YTArray(mmp['mass'])\n",
    "    mmp['redshift'] = yt.YTArray(mmp['redshift'])\n",
    "    mmp['rvir'] = yt.YTArray(mmp['rvir'])\n",
    "    halo_mmp.append(mmp)"
   ]
  },
  {
   "cell_type": "code",
   "execution_count": 5,
   "metadata": {},
   "outputs": [
    {
     "name": "stdout",
     "output_type": "stream",
     "text": [
      "[0.00094324 0.00092211 0.00089954 0.00087539 0.00085662 0.00082359\n",
      " 0.00081053 0.00079736 0.00077901 0.00075894 0.00074806 0.00073479\n",
      " 0.00071493 0.00069817 0.00067507 0.0006494  0.00060996 0.00056461\n",
      " 0.00056032 0.00053637 0.00050965 0.00047849 0.00044264 0.00048792\n",
      " 0.00046835 0.00044989 0.00038444 0.00038412 0.00032655 0.00031141\n",
      " 0.00027261 0.00020454 0.00018718 0.00017317 0.00016141 0.00015169] dimensionless\n"
     ]
    }
   ],
   "source": [
    "print halo_mmp[0]['rvir']"
   ]
  },
  {
   "cell_type": "markdown",
   "metadata": {},
   "source": [
    "# Read simulation redshifts"
   ]
  },
  {
   "cell_type": "code",
   "execution_count": 6,
   "metadata": {},
   "outputs": [],
   "source": [
    "pfn = []\n",
    "redshifts = []\n",
    "if os.path.exists('redshifts.dat'):\n",
    "    lines = open('redshifts.dat').readlines()\n",
    "    for l in lines:\n",
    "        pfn.append(l.split(':')[0])\n",
    "        redshifts.append(float(l.split('=')[-1]))\n",
    "else:\n",
    "    ts = yt.DatasetSeries('DD????/output_????')\n",
    "    for ds in ts:\n",
    "        redshifts.append(ds.current_redshift)\n",
    "        pfn.append(ds.parameter_filename)\n",
    "    \n",
    "redshifts = np.array(redshifts)\n",
    "pfn = np.array(pfn)\n",
    "isort = redshifts.argsort().astype('int')[::-1]\n",
    "redshifts = redshifts[isort]\n",
    "pfn = pfn[isort]"
   ]
  },
  {
   "cell_type": "markdown",
   "metadata": {},
   "source": [
    "# Read halo properties"
   ]
  },
  {
   "cell_type": "code",
   "execution_count": null,
   "metadata": {},
   "outputs": [
    {
     "name": "stdout",
     "output_type": "stream",
     "text": [
      "[0.00094324 0.00092211 0.00089954 0.00087539 0.00085662 0.00082359\n",
      " 0.00081053 0.00079736 0.00077901 0.00075894 0.00074806 0.00073479\n",
      " 0.00071493 0.00069817 0.00067507 0.0006494  0.00060996 0.00056461\n",
      " 0.00056032 0.00053637 0.00050965 0.00047849 0.00044264 0.00048792\n",
      " 0.00046835 0.00044989 0.00038444 0.00038412 0.00032655 0.00031141\n",
      " 0.00027261 0.00020454 0.00018718 0.00017317 0.00016141 0.00015169] dimensionless\n"
     ]
    }
   ],
   "source": [
    "print halo_mmp[0]['rvir']"
   ]
  },
  {
   "cell_type": "code",
   "execution_count": null,
   "metadata": {},
   "outputs": [],
   "source": [
    "pfile = 'fesc.cpkl'\n",
    "if os.path.exists(pfile):\n",
    "    fp = open(pfile, 'rb')\n",
    "    catalog = pickle.load(fp)\n",
    "    fp.close()\n",
    "else:\n",
    "    catalog = []\n",
    "    for fn in pfn:\n",
    "        entry = {}\n",
    "        fp = h5.File('fesc-data/p%s_fesc_halos.h5' % (fn.split('/')[1]), 'r')\n",
    "        nhalos = len(fp.keys())\n",
    "        if nhalos == 0:\n",
    "            catalog.append(entry)\n",
    "            fp.close()\n",
    "            continue\n",
    "        gp0 = fp.values()[0]\n",
    "        avoid = ['Pop2_Stars', 'Pop3_Stars', 'fesc_bins', 'fesc_hist']\n",
    "        vector_fields = ['center']\n",
    "        # Create empty entry\n",
    "        for f in gp0:\n",
    "            if f not in avoid:\n",
    "                if f in vector_fields:\n",
    "                    entry[f] = np.zeros((nhalos,3))\n",
    "                else:\n",
    "                    entry[f] = np.zeros(nhalos)\n",
    "        # Read the data\n",
    "        i = 0\n",
    "        for g in fp.itervalues():\n",
    "            for f in g:\n",
    "                if f not in avoid:\n",
    "                    entry[f][i] = g[f].value\n",
    "            i += 1\n",
    "        catalog.append(entry)\n",
    "        fp.close()\n",
    "    # Serialize properties\n",
    "    fp = open(pfile, 'wb')\n",
    "    pickle.dump(catalog, fp)\n",
    "    fp.close()"
   ]
  },
  {
   "cell_type": "markdown",
   "metadata": {},
   "source": [
    "# Link halo properties to merger tree nodes"
   ]
  },
  {
   "cell_type": "code",
   "execution_count": null,
   "metadata": {},
   "outputs": [],
   "source": [
    "def find_nearest(array, value):\n",
    "    return np.abs(array - value).argmin()"
   ]
  },
  {
   "cell_type": "code",
   "execution_count": null,
   "metadata": {},
   "outputs": [],
   "source": [
    "print halo_mmp[0]['rvir']"
   ]
  },
  {
   "cell_type": "code",
   "execution_count": null,
   "metadata": {},
   "outputs": [],
   "source": [
    "fields = catalog[-1].keys()\n",
    "fields.remove('center')\n",
    "fields.remove('rvir')\n",
    "for halo in halo_mmp:\n",
    "    nnode = len(halo['redshift'])\n",
    "    for f in fields:\n",
    "        halo[f] = np.zeros(nnode)\n",
    "    for inode in range(nnode):\n",
    "        ip = find_nearest(redshifts, halo['redshift'][inode])\n",
    "        \n",
    "        # dr = separation, R = radius of target halo, r = radii of all catalog halos\n",
    "        dr = np.sqrt(((halo['center'][inode] - catalog[ip]['center'])**2).sum(1))\n",
    "        R = halo['rvir'][inode]\n",
    "        r = catalog[ip]['rvir'] * (1 + redshifts[ip]) / trees.box_size.in_units('kpc').v\n",
    "        \n",
    "        # Calculate the sphere-sphere intersection. The maximum is the match.\n",
    "        # http://mathworld.wolfram.com/Sphere-SphereIntersection.html\n",
    "        vol = np.pi * (R+r-dr)**2 * (dr**2 + 2*dr*r - 3*r**2 + 2*dr*R + 6*r*R - 3*R**2) / (12*dr)\n",
    "        vol[dr > r+R] = 0.0  # No intersection\n",
    "        vol[dr < R-r] = (4*np.pi/3) * r[dr < R-r]**3  # Complete intersection\n",
    "        \n",
    "        match = vol.argmax()\n",
    "        rvir = catalog[ip]['rvir'][match] * (1 + redshifts[ip]) / trees.box_size.in_units('kpc').v\n",
    "        # Check whether separation is within the virial radius\n",
    "        if dr[match] >= rvir:\n",
    "            continue\n",
    "        # Add halo properties to mmp history\n",
    "        for f in fields:\n",
    "            halo[f][inode] = catalog[ip][f][match]\n",
    "    # Calculate SFR (last 20 Myr) [Msun/yr]\n",
    "    halo['SFR'] = halo['Mstar_pop2_young'] / 20e6\n",
    "    halo['fesc'] = np.maximum(halo['fesc'], 1e-6)"
   ]
  },
  {
   "cell_type": "code",
   "execution_count": null,
   "metadata": {},
   "outputs": [],
   "source": [
    "print halo['mass']"
   ]
  },
  {
   "cell_type": "markdown",
   "metadata": {},
   "source": [
    "# Save to file for plotting"
   ]
  },
  {
   "cell_type": "code",
   "execution_count": null,
   "metadata": {},
   "outputs": [],
   "source": [
    "fp = h5.File('catalog.h5', 'w')\n",
    "for i,halo in enumerate(halo_mmp):\n",
    "    hname = \"Halo%8.8d\" % (i)\n",
    "    gp = fp.create_group(hname)\n",
    "    for k,v in halo.items():\n",
    "        gp[k] = v\n",
    "fp.close()"
   ]
  },
  {
   "cell_type": "code",
   "execution_count": null,
   "metadata": {},
   "outputs": [],
   "source": [
    "1 / (halo_mmp[0]['redshift']+1)"
   ]
  },
  {
   "cell_type": "code",
   "execution_count": null,
   "metadata": {},
   "outputs": [],
   "source": [
    "halo_mmp[0]['mass']"
   ]
  },
  {
   "cell_type": "code",
   "execution_count": null,
   "metadata": {},
   "outputs": [],
   "source": [
    "len(halo_mmp)"
   ]
  },
  {
   "cell_type": "code",
   "execution_count": null,
   "metadata": {
    "scrolled": true
   },
   "outputs": [],
   "source": [
    "fields = ['mass', 'Mstar', 'SFR', 'fesc', 'fgas', 'fstar']\n",
    "log = [True, True, True, True, False, True]\n",
    "ylabel = [r'M$_{\\rm vir}$ [M$_\\odot$]', r'M$_{\\star}$ [M$_\\odot$]', 'SFR [M$_\\odot$/yr]',\n",
    "          r'f$_{\\rm esc}$', r'f$_{\\rm gas}$', r'f$_\\star$']\n",
    "nhalos = len(halo_mmp)\n",
    "for i in range(nhalos):\n",
    "    if halo_mmp[i]['Mstar'][0] < 1: continue\n",
    "    fig, ax = plt.subplots(6, 1, figsize=(8,16), sharex=True)\n",
    "    plt.subplots_adjust(hspace=1e-3)\n",
    "    for j in range(len(fields)):\n",
    "        if log[j]:\n",
    "            ax[j].semilogy(halo_mmp[i]['redshift'], halo_mmp[i][fields[j]], lw=3)\n",
    "        else:\n",
    "            ax[j].plot(halo_mmp[i]['redshift'], halo_mmp[i][fields[j]], lw=3)\n",
    "        ax[j].set_ylabel(ylabel[j])\n",
    "    ax[0].set_title('Halo %d' % (i))\n",
    "    ax[-1].set_xlabel('Redshift')\n",
    "    plt.savefig('halo%6.6d-evo.png' % (i))"
   ]
  },
  {
   "cell_type": "code",
   "execution_count": null,
   "metadata": {},
   "outputs": [],
   "source": []
  }
 ],
 "metadata": {
  "kernelspec": {
   "display_name": "Python 3 (ipykernel)",
   "language": "python",
   "name": "python3"
  },
  "language_info": {
   "codemirror_mode": {
    "name": "ipython",
    "version": 3
   },
   "file_extension": ".py",
   "mimetype": "text/x-python",
   "name": "python",
   "nbconvert_exporter": "python",
   "pygments_lexer": "ipython3",
   "version": "3.10.6"
  }
 },
 "nbformat": 4,
 "nbformat_minor": 4
}
