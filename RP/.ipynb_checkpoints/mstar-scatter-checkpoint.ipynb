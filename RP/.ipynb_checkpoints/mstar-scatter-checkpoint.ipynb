{
 "cells": [
  {
   "cell_type": "code",
   "execution_count": 1,
   "id": "00d20cbc-9dbf-41e6-8ae0-1db9756e479c",
   "metadata": {},
   "outputs": [],
   "source": [
    "%matplotlib inline\n",
    "import matplotlib.pyplot as plt\n",
    "from mpl_toolkits.axes_grid1 import make_axes_locatable\n",
    "import matplotlib.ticker as ticker\n",
    "import numpy as np\n",
    "import h5py as h5\n",
    "from yt.utilities import cosmology as co"
   ]
  },
  {
   "cell_type": "code",
   "execution_count": 2,
   "id": "e4cf26d7-058d-4e74-93f1-134d80ec0024",
   "metadata": {},
   "outputs": [],
   "source": [
    "from matplotlib import rc, rcParams\n",
    "rc('font', size=18)\n",
    "rc('xtick', direction='in')\n",
    "rc('ytick', direction='in')"
   ]
  },
  {
   "cell_type": "code",
   "execution_count": 5,
   "id": "2c44a18f-57f9-404f-8ed8-20fef920d140",
   "metadata": {},
   "outputs": [],
   "source": [
    "fn = 'catalog.h5'\n",
    "fp = h5.File(fn, 'r')\n",
    "data = []\n",
    "for g in fp:\n",
    "    data.append({})\n",
    "    for d in fp[g]:\n",
    "        data[-1][d] = fp[g][d][:]\n",
    "fp.close()"
   ]
  },
  {
   "cell_type": "code",
   "execution_count": 6,
   "id": "6337bf1a-4d2c-4a90-9ebb-0d092f5f691a",
   "metadata": {},
   "outputs": [
    {
     "data": {
      "text/plain": [
       "dict_keys(['M_HI', 'M_HII', 'Mstar', 'Mstar_pop2', 'Mstar_pop2_young', 'Mstar_pop3', 'Nesc', 'Ntot', 'NumberOfPop2Stars', 'NumberOfPop3Stars', 'SFR', 'center', 'fesc', 'fgas', 'fstar', 'mass', 'redshift', 'rvir'])"
      ]
     },
     "execution_count": 6,
     "metadata": {},
     "output_type": "execute_result"
    }
   ],
   "source": [
    "data[0].keys()"
   ]
  },
  {
   "cell_type": "code",
   "execution_count": 7,
   "id": "5023286b-c781-437d-b54e-621424186f3d",
   "metadata": {},
   "outputs": [],
   "source": [
    "masses = np.zeros(len(data))\n",
    "mstar = np.zeros(len(data))\n",
    "for i,d in enumerate(data):\n",
    "    masses[i] = data[i]['mass'][0]\n",
    "    mstar[i] = data[i]['Mstar'][0]    "
   ]
  },
  {
   "cell_type": "code",
   "execution_count": 8,
   "id": "0aa037a2-1d55-455a-ad03-3c1afc83330c",
   "metadata": {},
   "outputs": [],
   "source": [
    "cos = co.Cosmology(omega_matter=0.266, omega_lambda=0.734, hubble_constant=0.71)"
   ]
  },
  {
   "cell_type": "code",
   "execution_count": 10,
   "id": "c82029b3-e2d4-4b4b-be7b-9d9af312e1d1",
   "metadata": {},
   "outputs": [
    {
     "name": "stderr",
     "output_type": "stream",
     "text": [
      "/tmp/ipykernel_255173/537876660.py:1: RuntimeWarning: divide by zero encountered in log10\n",
      "  plt.scatter(np.log10(masses), np.log10(mstar), alpha=0.2, marker='o')\n"
     ]
    },
    {
     "data": {
      "text/plain": [
       "<matplotlib.collections.PathCollection at 0x7f47d06aad60>"
      ]
     },
     "execution_count": 10,
     "metadata": {},
     "output_type": "execute_result"
    },
    {
     "data": {
      "image/png": "[encoded data removed]",
      "text/plain": [
       "<Figure size 432x288 with 1 Axes>"
      ]
     },
     "metadata": {
      "needs_background": "light"
     },
     "output_type": "display_data"
    }
   ],
   "source": [
    "plt.scatter(np.log10(masses), np.log10(mstar), alpha=0.2, marker='o')"
   ]
  },
  {
   "cell_type": "code",
   "execution_count": null,
   "id": "8fdf4a0e-75eb-4d9a-8c46-b7e840cfaaa0",
   "metadata": {},
   "outputs": [],
   "source": []
  }
 ],
 "metadata": {
  "kernelspec": {
   "display_name": "Python 3 (ipykernel)",
   "language": "python",
   "name": "python3"
  },
  "language_info": {
   "codemirror_mode": {
    "name": "ipython",
    "version": 3
   },
   "file_extension": ".py",
   "mimetype": "text/x-python",
   "name": "python",
   "nbconvert_exporter": "python",
   "pygments_lexer": "ipython3",
   "version": "3.10.6"
  }
 },
 "nbformat": 4,
 "nbformat_minor": 5
}
